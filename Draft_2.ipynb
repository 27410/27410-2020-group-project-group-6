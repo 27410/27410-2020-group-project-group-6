{
 "cells": [
  {
   "cell_type": "code",
   "execution_count": 1,
   "metadata": {},
   "outputs": [],
   "source": [
    "import pandas as pd\n",
    "import matplotlib.pyplot as plt\n",
    "plt.style.use('seaborn')\n",
    "%matplotlib inline\n",
    "import escher\n",
    "#import cobra.test\n",
    "from cobra.flux_analysis.phenotype_phase_plane import production_envelope, add_envelope\n",
    "from cobra.flux_analysis import flux_variability_analysis\n"
   ]
  },
  {
   "cell_type": "code",
   "execution_count": 2,
   "metadata": {},
   "outputs": [],
   "source": [
    "from cobra.io import read_sbml_model\n",
    "model = read_sbml_model('iML1515.xml')"
   ]
  },
  {
   "cell_type": "code",
   "execution_count": 3,
   "metadata": {},
   "outputs": [
    {
     "name": "stdout",
     "output_type": "stream",
     "text": [
      "Maximize\n",
      "1.0*BIOMASS_Ec_iML1515_core_75p37M - 1.0*BIOMASS_Ec_iML1515_core_75p37M_reverse_35685\n"
     ]
    }
   ],
   "source": [
    "print(model.objective)"
   ]
  },
  {
   "cell_type": "code",
   "execution_count": 4,
   "metadata": {},
   "outputs": [],
   "source": [
    "#model.optimize().objective_value"
   ]
  },
  {
   "cell_type": "code",
   "execution_count": 5,
   "metadata": {},
   "outputs": [
    {
     "name": "stdout",
     "output_type": "stream",
     "text": [
      "Max. BM production [mmol gDW^-1 h^-1]: 0.8769972144269618\n",
      "Max. L-serine production [mmol gDW^-1 h^-1]: 0.0\n",
      "Theoretical max. yield [mmol_L-ser / mmol_glc]: 0.0\n"
     ]
    }
   ],
   "source": [
    "#Output solution\n",
    "print(\"Max. BM production [mmol gDW^-1 h^-1]:\", model.optimize().objective_value)\n",
    "print(\"Max. L-serine production [mmol gDW^-1 h^-1]:\", model.reactions.EX_ser__L_e.flux)\n",
    "print(\"Theoretical max. yield [mmol_L-ser / mmol_glc]:\", model.reactions.EX_ser__L_e.flux / (-1*model.reactions.EX_glc__D_e.flux))"
   ]
  },
  {
   "cell_type": "code",
   "execution_count": 6,
   "metadata": {},
   "outputs": [
    {
     "name": "stdout",
     "output_type": "stream",
     "text": [
      "Max. L-serine production [mmol gDW^-1 h^-1]: 20.625882352941172\n",
      "Theoretical max. yield [mmol_L-ser / mmol_glc]: 2.0625882352941174\n"
     ]
    }
   ],
   "source": [
    "with model:\n",
    "    model.objective = model.reactions.EX_ser__L_e\n",
    "    model.optimize();\n",
    "#Output solution\n",
    "#print(\"Max. BM production [mmol gDW^-1 h^-1]:\", model.optimize().objective_value)\n",
    "    print(\"Max. L-serine production [mmol gDW^-1 h^-1]:\", model.reactions.EX_ser__L_e.flux)\n",
    "    print(\"Theoretical max. yield [mmol_L-ser / mmol_glc]:\", model.reactions.EX_ser__L_e.flux / (-1*model.reactions.EX_glc__D_e.flux))"
   ]
  },
  {
   "cell_type": "code",
   "execution_count": 7,
   "metadata": {},
   "outputs": [
    {
     "data": {
      "text/html": [
       "<div>\n",
       "<style scoped>\n",
       "    .dataframe tbody tr th:only-of-type {\n",
       "        vertical-align: middle;\n",
       "    }\n",
       "\n",
       "    .dataframe tbody tr th {\n",
       "        vertical-align: top;\n",
       "    }\n",
       "\n",
       "    .dataframe thead th {\n",
       "        text-align: right;\n",
       "    }\n",
       "</style>\n",
       "<table border=\"1\" class=\"dataframe\">\n",
       "  <thead>\n",
       "    <tr style=\"text-align: right;\">\n",
       "      <th></th>\n",
       "      <th></th>\n",
       "      <th>PERCENT</th>\n",
       "      <th>FLUX</th>\n",
       "      <th>REACTION_STRING</th>\n",
       "    </tr>\n",
       "    <tr>\n",
       "      <th>RXN_STAT</th>\n",
       "      <th>ID</th>\n",
       "      <th></th>\n",
       "      <th></th>\n",
       "      <th></th>\n",
       "    </tr>\n",
       "  </thead>\n",
       "  <tbody>\n",
       "    <tr>\n",
       "      <th rowspan=\"6\" valign=\"top\">PRODUCING</th>\n",
       "      <th>GPDDA3pp</th>\n",
       "      <td>NaN</td>\n",
       "      <td>0.0</td>\n",
       "      <td>g3ps_p + h2o_p --&gt; glyc3p_p + h_p + ser__L_p</td>\n",
       "    </tr>\n",
       "    <tr>\n",
       "      <th>PSP_Lpp</th>\n",
       "      <td>NaN</td>\n",
       "      <td>0.0</td>\n",
       "      <td>h2o_p + pser__L_p --&gt; pi_p + ser__L_p</td>\n",
       "    </tr>\n",
       "    <tr>\n",
       "      <th>SERt2rpp</th>\n",
       "      <td>NaN</td>\n",
       "      <td>0.0</td>\n",
       "      <td>h_p + ser__L_p --&gt; h_c + ser__L_c</td>\n",
       "    </tr>\n",
       "    <tr>\n",
       "      <th>SERt4pp</th>\n",
       "      <td>NaN</td>\n",
       "      <td>0.0</td>\n",
       "      <td>na1_p + ser__L_p --&gt; na1_c + ser__L_c</td>\n",
       "    </tr>\n",
       "    <tr>\n",
       "      <th>SERtex</th>\n",
       "      <td>NaN</td>\n",
       "      <td>0.0</td>\n",
       "      <td>ser__L_e &lt;=&gt; ser__L_p</td>\n",
       "    </tr>\n",
       "    <tr>\n",
       "      <th>SERtpp</th>\n",
       "      <td>NaN</td>\n",
       "      <td>0.0</td>\n",
       "      <td>ser__L_c --&gt; ser__L_p</td>\n",
       "    </tr>\n",
       "  </tbody>\n",
       "</table>\n",
       "</div>"
      ],
      "text/plain": [
       "<cobra.core.summary.metabolite_summary.MetaboliteSummary at 0x7f58af1e7240>"
      ]
     },
     "execution_count": 7,
     "metadata": {},
     "output_type": "execute_result"
    }
   ],
   "source": [
    "model.metabolites.ser__L_p.summary()"
   ]
  },
  {
   "cell_type": "code",
   "execution_count": 8,
   "metadata": {},
   "outputs": [
    {
     "name": "stdout",
     "output_type": "stream",
     "text": [
      "                                 minimum    maximum\n",
      "PGCD                            0.000000  24.670609\n",
      "PSERT                           0.000000  15.865461\n",
      "PSP_L                           0.000000  15.865461\n",
      "SERAT                           0.195337   9.676144\n",
      "GHMT2r                         -4.507400   9.466666\n",
      "LSERDHr                         0.000000  14.513470\n",
      "SERD_L                          0.000000  14.513470\n",
      "TRPS2                           0.000000  14.513470\n",
      "GPDDA3pp                        0.000000   0.000000\n",
      "SERtpp                          0.000000  93.256000\n",
      "SERtex                         -2.168744   0.000000\n",
      "EX_ser__L_e                     0.000000   2.168744\n",
      "BIOMASS_Ec_iML1515_core_75p37M  0.789297   0.876997\n",
      "GLCt2pp                         0.000000  10.000000\n"
     ]
    }
   ],
   "source": [
    "# Flux variability analysis of reactions to ser_L at 90% BM\n",
    "reactions_OE = [model.reactions.PGCD, model.reactions.PSERT, model.reactions.PSP_L,model.reactions.SERAT, model.reactions.GHMT2r, \n",
    "                model.reactions.LSERDHr,model.reactions.SERD_L, model.reactions.TRPS2, model.reactions.GPDDA3pp, model.reactions.SERtpp,\n",
    "                model.reactions.SERtex, model.reactions.EX_ser__L_e, model.reactions.BIOMASS_Ec_iML1515_core_75p37M,\n",
    "               model.reactions.GLCt2pp]\n",
    "fva = flux_variability_analysis(model, reaction_list = reactions_OE,\n",
    "fraction_of_optimum=0.9)\n",
    "print(fva)"
   ]
  },
  {
   "cell_type": "code",
   "execution_count": 9,
   "metadata": {},
   "outputs": [
    {
     "name": "stdout",
     "output_type": "stream",
     "text": [
      "Max. BM production [mmol gDW^-1 h^-1]: 0.6729299410413994  || % of optimum: 76.73115655371674\n",
      "Max. L-serine production [mmol gDW^-1 h^-1]: 5.0\n",
      "Theoretical max. yield [mmol_L-ser / mmol_glc]: 0.5\n",
      " \n",
      "Fluxes in pathway to Ser\n",
      "PGCD : 6.155982268803919\n",
      "PSERT : 6.155982268803919\n",
      "PSP_L : 6.155982268803919\n",
      "GHMT2r : 0.7506752194548023\n",
      "SERAT : 0.1665380476688077\n",
      "Fluxes to and from 3pg_c (pre-cursor)\n",
      "PGK : -16.70972075812051\n",
      "PGM : -10.553738489316592\n",
      "PGCD : 6.155982268803919 To Ser\n"
     ]
    }
   ],
   "source": [
    "# Overexpression / Underexpression\n",
    "# From FVA we can get 2.16 Ser with 90 % BM\n",
    "# GLCt2pp changes the glucose uptake to bypass our pre-cursor\n",
    "\n",
    "with model:\n",
    "    \n",
    "    #model.reactions.PGCD.lower_bound = 50\n",
    "    #model.reactions.PSERT.lower_bound = 30\n",
    "    #model.reactions.PSP_L.lower_bound = 30\n",
    "    #model.reactions.SERtpp.lower_bound = 20\n",
    "    #model.reactions.SERtex.lower_bound = -20\n",
    "    #model.reactions.GPDDA3pp.bounds = 0.5,5\n",
    "    \n",
    "    #model.reactions.SERAT.bounds = 0,5           #Lowers\n",
    "    #model.reactions.GHMT2r.bounds = -5,0\n",
    "    #model.reactions.SERD_L.bounds = 0,1\n",
    "    #model.reactions.TRPS2.bounds = 0,1\n",
    "    \n",
    "    #model.reactions.EX_ser__L_e.lower_bound = 5\n",
    "    \n",
    "    #model.reactions.GLCptspp.knock_out()          #GLCptspp  #\n",
    "    #model.genes.b2551.knock_out()                  #GHMT2r  Lowers\n",
    "    #model.genes.b1539.knock_out()                 #LSERDHr\n",
    "    #model.genes.b1260.knock_out()                 #TRPS2    #Essential\n",
    "    #model.genes.b3607.knock_out()                 #SERAT    #Essential\n",
    "    \n",
    "    model.reactions.EX_ser__L_e.bounds = 5,5\n",
    "    model.optimize();\n",
    "    \n",
    "    print(\"Max. BM production [mmol gDW^-1 h^-1]:\", model.optimize().objective_value, \" || % of optimum:\", model.optimize().objective_value/0.876997*100)\n",
    "    print(\"Max. L-serine production [mmol gDW^-1 h^-1]:\", model.reactions.EX_ser__L_e.flux)\n",
    "    print(\"Theoretical max. yield [mmol_L-ser / mmol_glc]:\", model.reactions.EX_ser__L_e.flux / (-1*model.reactions.EX_glc__D_e.flux))\n",
    "    print(\" \")\n",
    "    print(\"Fluxes in pathway to Ser\")\n",
    "    print(\"PGCD :\", model.reactions.PGCD.flux)\n",
    "    print(\"PSERT :\", model.reactions.PSERT.flux)\n",
    "    print(\"PSP_L :\", model.reactions.PSP_L.flux)\n",
    "    print(\"GHMT2r :\", model.reactions.GHMT2r.flux)\n",
    "    print(\"SERAT :\", model.reactions.SERAT.flux)\n",
    "    print(\"Fluxes to and from 3pg_c (pre-cursor)\")\n",
    "    print(\"PGK :\", model.reactions.PGK.flux)\n",
    "    print(\"PGM :\", model.reactions.PGM.flux)\n",
    "    print(\"PGCD :\", model.reactions.PGCD.flux, \"To Ser\")"
   ]
  },
  {
   "cell_type": "code",
   "execution_count": 10,
   "metadata": {},
   "outputs": [],
   "source": [
    "#X = model.copy()\n",
    "#X.reactions.EX_ser__L_e.bounds = 2,5\n",
    "#X.reactions.GLCptspp.knock_out()\n",
    "#X.optimize();\n",
    "#X.metabolites.glc__D_e.summary()"
   ]
  },
  {
   "cell_type": "code",
   "execution_count": 11,
   "metadata": {},
   "outputs": [],
   "source": [
    "#X.reactions.PGCD.lower_bound = 30\n",
    "#X.reactions.PSERT.lower_bound = 20\n",
    "#X.reactions.PSP_L.lower_bound = 20\n",
    "#X.reactions.EX_ser__L_e.lower_bound = 1\n",
    "#X.reactions.SERD_L.upper_bound = 10\n",
    "#X.metabolites.ser__L_c.summary()"
   ]
  },
  {
   "cell_type": "code",
   "execution_count": 12,
   "metadata": {},
   "outputs": [
    {
     "ename": "NameError",
     "evalue": "name 'X' is not defined",
     "output_type": "error",
     "traceback": [
      "\u001b[0;31m---------------------------------------------------------------------------\u001b[0m",
      "\u001b[0;31mNameError\u001b[0m                                 Traceback (most recent call last)",
      "\u001b[0;32m<ipython-input-12-ce36edb45a08>\u001b[0m in \u001b[0;36m<module>\u001b[0;34m\u001b[0m\n\u001b[1;32m      1\u001b[0m \u001b[0;31m#model.objective = model.reactions.EX_ser__L_e\u001b[0m\u001b[0;34m\u001b[0m\u001b[0;34m\u001b[0m\u001b[0;34m\u001b[0m\u001b[0m\n\u001b[1;32m      2\u001b[0m \u001b[0;31m#model.optimize();\u001b[0m\u001b[0;34m\u001b[0m\u001b[0;34m\u001b[0m\u001b[0;34m\u001b[0m\u001b[0m\n\u001b[0;32m----> 3\u001b[0;31m \u001b[0mprint\u001b[0m\u001b[0;34m(\u001b[0m\u001b[0;34m\"Max. BM production [mmol gDW^-1 h^-1]:\"\u001b[0m\u001b[0;34m,\u001b[0m \u001b[0mX\u001b[0m\u001b[0;34m.\u001b[0m\u001b[0moptimize\u001b[0m\u001b[0;34m(\u001b[0m\u001b[0;34m)\u001b[0m\u001b[0;34m.\u001b[0m\u001b[0mobjective_value\u001b[0m\u001b[0;34m)\u001b[0m\u001b[0;34m\u001b[0m\u001b[0;34m\u001b[0m\u001b[0m\n\u001b[0m\u001b[1;32m      4\u001b[0m \u001b[0mprint\u001b[0m\u001b[0;34m(\u001b[0m\u001b[0;34m\"Max. L-serine production [mmol gDW^-1 h^-1]:\"\u001b[0m\u001b[0;34m,\u001b[0m \u001b[0mX\u001b[0m\u001b[0;34m.\u001b[0m\u001b[0mreactions\u001b[0m\u001b[0;34m.\u001b[0m\u001b[0mEX_ser__L_e\u001b[0m\u001b[0;34m.\u001b[0m\u001b[0mflux\u001b[0m\u001b[0;34m)\u001b[0m\u001b[0;34m\u001b[0m\u001b[0;34m\u001b[0m\u001b[0m\n\u001b[1;32m      5\u001b[0m \u001b[0mprint\u001b[0m\u001b[0;34m(\u001b[0m\u001b[0;34m\"Theoretical max. yield [mmol_L-ser / mmol_glc]:\"\u001b[0m\u001b[0;34m,\u001b[0m \u001b[0mX\u001b[0m\u001b[0;34m.\u001b[0m\u001b[0mreactions\u001b[0m\u001b[0;34m.\u001b[0m\u001b[0mEX_ser__L_e\u001b[0m\u001b[0;34m.\u001b[0m\u001b[0mflux\u001b[0m \u001b[0;34m/\u001b[0m \u001b[0;34m(\u001b[0m\u001b[0;34m-\u001b[0m\u001b[0;36m1\u001b[0m\u001b[0;34m*\u001b[0m\u001b[0mX\u001b[0m\u001b[0;34m.\u001b[0m\u001b[0mreactions\u001b[0m\u001b[0;34m.\u001b[0m\u001b[0mEX_glc__D_e\u001b[0m\u001b[0;34m.\u001b[0m\u001b[0mflux\u001b[0m\u001b[0;34m)\u001b[0m\u001b[0;34m)\u001b[0m\u001b[0;34m\u001b[0m\u001b[0;34m\u001b[0m\u001b[0m\n",
      "\u001b[0;31mNameError\u001b[0m: name 'X' is not defined"
     ]
    }
   ],
   "source": [
    "#model.objective = model.reactions.EX_ser__L_e\n",
    "#model.optimize();\n",
    "print(\"Max. BM production [mmol gDW^-1 h^-1]:\", X.optimize().objective_value)\n",
    "print(\"Max. L-serine production [mmol gDW^-1 h^-1]:\", X.reactions.EX_ser__L_e.flux)\n",
    "print(\"Theoretical max. yield [mmol_L-ser / mmol_glc]:\", X.reactions.EX_ser__L_e.flux / (-1*X.reactions.EX_glc__D_e.flux))"
   ]
  },
  {
   "cell_type": "code",
   "execution_count": null,
   "metadata": {},
   "outputs": [],
   "source": []
  },
  {
   "cell_type": "code",
   "execution_count": null,
   "metadata": {},
   "outputs": [],
   "source": [
    "from cameo import load_model\n",
    "model1 = load_model('iML1515.xml')"
   ]
  },
  {
   "cell_type": "code",
   "execution_count": null,
   "metadata": {},
   "outputs": [],
   "source": [
    "from cameo import fba\n",
    "fba_result = fba(model1)"
   ]
  },
  {
   "cell_type": "code",
   "execution_count": null,
   "metadata": {},
   "outputs": [],
   "source": [
    "fba_result.display_on_map('E. coli coremetabolism_with Serine.json')"
   ]
  },
  {
   "cell_type": "code",
   "execution_count": null,
   "metadata": {},
   "outputs": [],
   "source": [
    "# BM set to ~60% of optimum\n",
    "with model1:\n",
    "    model1.reactions.BIOMASS_Ec_iML1515_core_75p37M.bounds = 0.5,1000\n",
    "    model1.objective = model1.reactions.EX_ser__L_e\n",
    "    model1.optimize();\n",
    "    qqq = fba(model1)"
   ]
  },
  {
   "cell_type": "code",
   "execution_count": null,
   "metadata": {},
   "outputs": [],
   "source": [
    "qqq.display_on_map('E. coli coremetabolism_with Serine.json')"
   ]
  },
  {
   "cell_type": "code",
   "execution_count": null,
   "metadata": {},
   "outputs": [],
   "source": [
    "from cameo import phenotypic_phase_plane"
   ]
  },
  {
   "cell_type": "code",
   "execution_count": null,
   "metadata": {},
   "outputs": [],
   "source": [
    "QQ = model1.copy()"
   ]
  },
  {
   "cell_type": "code",
   "execution_count": null,
   "metadata": {},
   "outputs": [],
   "source": [
    "#QQ.reactions.EX_ser__L_e.bounds = 1,1000\n",
    "QQ.reactions.BIOMASS_Ec_iML1515_core_75p37M.bounds = 0.5,1000\n",
    "QQ.objective = QQ.reactions.EX_ser__L_e\n",
    "print(\"Ser prod.: \", QQ.optimize().objective_value)"
   ]
  },
  {
   "cell_type": "code",
   "execution_count": null,
   "metadata": {},
   "outputs": [],
   "source": [
    "# Same result as the EX_ser value in FBA above\n",
    "QQ.metabolites.ser__L_p.summary()"
   ]
  },
  {
   "cell_type": "code",
   "execution_count": null,
   "metadata": {},
   "outputs": [],
   "source": []
  },
  {
   "cell_type": "code",
   "execution_count": null,
   "metadata": {},
   "outputs": [],
   "source": [
    "from cameo import load_model\n",
    "from cameo import phenotypic_phase_plane\n",
    "from cameo.visualization.plotting.with_plotly import PlotlyPlotter\n",
    "from cameo.visualization import plotting"
   ]
  },
  {
   "cell_type": "code",
   "execution_count": null,
   "metadata": {},
   "outputs": [],
   "source": [
    "XYZ = model1.copy()"
   ]
  },
  {
   "cell_type": "code",
   "execution_count": null,
   "metadata": {},
   "outputs": [],
   "source": [
    "XYZ.optimize()"
   ]
  },
  {
   "cell_type": "code",
   "execution_count": null,
   "metadata": {},
   "outputs": [],
   "source": [
    "#production_envelope = phenotypic_phase_plane(XYZ, variables=[XYZ.reactions.BIOMASS_Ec_iML1515_core_75p37M], \n",
    "                                             objective=XYZ.reactions.SERtex)"
   ]
  },
  {
   "cell_type": "code",
   "execution_count": null,
   "metadata": {},
   "outputs": [],
   "source": [
    "# Plot doesn't work\n",
    "#production_envelope.plot()"
   ]
  },
  {
   "cell_type": "code",
   "execution_count": null,
   "metadata": {},
   "outputs": [],
   "source": [
    "# The code below works but is very slow"
   ]
  },
  {
   "cell_type": "code",
   "execution_count": null,
   "metadata": {},
   "outputs": [],
   "source": [
    "from cameo.strain_design.deterministic import DifferentialFVA"
   ]
  },
  {
   "cell_type": "code",
   "execution_count": null,
   "metadata": {},
   "outputs": [],
   "source": [
    "#model1.reactions.EX_o2_e.lower_bound = 0\n",
    "#reference_model = model1.copy()\n",
    "#biomass_rxn = reference_model.reactions.BIOMASS_Ec_iML1515_core_75p37M\n",
    "#biomass_rxn.lower_bound = 0.\n",
    "#target = reference_model.reactions.EX_ser__L_e"
   ]
  },
  {
   "cell_type": "code",
   "execution_count": null,
   "metadata": {},
   "outputs": [],
   "source": [
    "#diff_fva = DifferentialFVA(design_space_model=model,\n",
    "                           reference_model=reference_model,\n",
    "                           objective=target,\n",
    "                           variables=[biomass_rxn],\n",
    "                           normalize_ranges_by=biomass_rxn,\n",
    "                           points=10)"
   ]
  },
  {
   "cell_type": "code",
   "execution_count": null,
   "metadata": {},
   "outputs": [],
   "source": [
    "# Takes 7 min!\n",
    "\n",
    "#%time result = diff_fva.run(surface_only=True)\n",
    "#result.plot()"
   ]
  },
  {
   "cell_type": "code",
   "execution_count": null,
   "metadata": {},
   "outputs": [],
   "source": [
    "#result"
   ]
  },
  {
   "cell_type": "code",
   "execution_count": null,
   "metadata": {},
   "outputs": [],
   "source": [
    "#result.plot(5, variables=['EX_ser__L_e', 'GHMT2r', 'SERD_L', 'PSP_L'])"
   ]
  },
  {
   "cell_type": "code",
   "execution_count": null,
   "metadata": {},
   "outputs": [],
   "source": [
    "#result.display_on_map(5, map_name=\"e_coli_core.Core metabolism\")"
   ]
  },
  {
   "cell_type": "code",
   "execution_count": null,
   "metadata": {},
   "outputs": [],
   "source": []
  }
 ],
 "metadata": {
  "kernelspec": {
   "display_name": "python3.6",
   "language": "python",
   "name": "python3.6"
  },
  "language_info": {
   "codemirror_mode": {
    "name": "ipython",
    "version": 3
   },
   "file_extension": ".py",
   "mimetype": "text/x-python",
   "name": "python",
   "nbconvert_exporter": "python",
   "pygments_lexer": "ipython3",
   "version": "3.6.12"
  }
 },
 "nbformat": 4,
 "nbformat_minor": 4
}
