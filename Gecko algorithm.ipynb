{
 "cells": [
  {
   "cell_type": "markdown",
   "metadata": {},
   "source": [
    "1. Loading & pre-processing models\n",
    "\n",
    "The models are available at:\n",
    "•iML1515: http://bigg.ucsd.edu/models/iML1515\n",
    "•eciML1515_batch: https://github.com/SysBioChalmers/ecModels/blob/chore/updateiML1515/eciML1515/model\n"
   ]
  },
  {
   "cell_type": "code",
   "execution_count": 1,
   "metadata": {},
   "outputs": [],
   "source": [
    "from cobra.io import read_sbml_model"
   ]
  },
  {
   "cell_type": "code",
   "execution_count": 2,
   "metadata": {},
   "outputs": [],
   "source": [
    "import cameo\n",
    "met_model = cameo.load_model(\"iML1515\")"
   ]
  },
  {
   "cell_type": "code",
   "execution_count": 3,
   "metadata": {},
   "outputs": [],
   "source": [
    "import cobra\n",
    "! [ ! -f \"eciML1515_batch.xml\" ] && curl -O -L \"https://raw.githubusercontent.com/SysBioChalmers/ecModels/chore/updateiML1515/eciML1515/model/eciML1515_batch.xml\"\n",
    "ec_model = cobra.io.read_sbml_model(\"eciML1515_batch.xml\")\n"
   ]
  },
  {
   "cell_type": "code",
   "execution_count": 4,
   "metadata": {},
   "outputs": [],
   "source": [
    "import math"
   ]
  },
  {
   "cell_type": "code",
   "execution_count": 5,
   "metadata": {},
   "outputs": [],
   "source": [
    "# Replacing any infinite bound by 1000 in the ecModel:\n",
    "for reaction in ec_model.reactions:\n",
    "    if math.isinf(reaction.upper_bound):\n",
    "        reaction.upper_bound = 1000\n",
    "\n",
    "# Remove repetition in ecModel met ids:\n",
    "for metabolite in ec_model.metabolites:\n",
    "    metabolite.id = metabolite.id.split(\"[\")[0]\n",
    "\n",
    "# Close biotin uptake:EX_ser__L_e\n",
    "met_model.reactions.EX_ser__L_e.lower_bound = 0\n",
    "ec_model.reactions.EX_ser__L_e_REV.upper_bound = 0"
   ]
  },
  {
   "cell_type": "markdown",
   "metadata": {},
   "source": [
    "2. Simulating the model"
   ]
  },
  {
   "cell_type": "code",
   "execution_count": 6,
   "metadata": {},
   "outputs": [],
   "source": [
    "def simulate_ec_model(model, rxn_id):\n",
    "    # First optimization: maximize input\n",
    "    model.objective = rxn_id\n",
    "    solution = model.optimize()\n",
    "    \n",
    "    # Second optimization: minimize glucose\n",
    "    model.reactions.get_by_id(rxn_id).lower_bound = solution.fluxes[rxn_id]\n",
    "    glc_rxn = model.reactions.get_by_id(\"EX_glc__D_e_REV\")\n",
    "    model.objective = {glc_rxn: -1}\n",
    "    solution = cobra.flux_analysis.pfba(model)\n",
    "    \n",
    "    return solution\n",
    "\n",
    "      \n"
   ]
  },
  {
   "cell_type": "code",
   "execution_count": 7,
   "metadata": {},
   "outputs": [],
   "source": [
    "def print_fluxes(model, solution, bio_rxn_id):\n",
    "    # Show growth:\n",
    "    print(\"growth: \" + str(solution.fluxes[bio_rxn_id]))\n",
    "    \n",
    "    # Show exchange reactions:\n",
    "    for rxn in model.reactions:\n",
    "        if len(rxn.metabolites) == 1 and solution.fluxes[rxn.id] != 0:\n",
    "            print(rxn.id + \": \" + str(solution.fluxes[rxn.id]))   "
   ]
  },
  {
   "cell_type": "markdown",
   "metadata": {},
   "source": [
    "2.1 Wild type conditions:"
   ]
  },
  {
   "cell_type": "code",
   "execution_count": 8,
   "metadata": {},
   "outputs": [
    {
     "data": {
      "text/latex": [
       "$\\displaystyle 1.0 BIOMASS_{Ec iML1515 core 75p37M}$"
      ],
      "text/plain": [
       "1.0*BIOMASS_Ec_iML1515_core_75p37M"
      ]
     },
     "execution_count": 8,
     "metadata": {},
     "output_type": "execute_result"
    }
   ],
   "source": [
    "ec_model.objective.expression.args[0]"
   ]
  },
  {
   "cell_type": "code",
   "execution_count": 9,
   "metadata": {},
   "outputs": [
    {
     "name": "stdout",
     "output_type": "stream",
     "text": [
      "growth: 0.8769972144269691\n",
      "EX_pi_e: -0.8459567750194346\n",
      "EX_co2_e: 24.00329327297647\n",
      "EX_h_e: 8.058200328043306\n",
      "EX_mn2_e: -0.0006060050751690357\n",
      "EX_fe2_e: -0.01408545226091155\n",
      "EX_glc__D_e: -10.0\n",
      "EX_zn2_e: -0.0002990560501195965\n",
      "DM_amob_c: 1.7539944288539381e-06\n",
      "EX_mg2_e: -0.007607950835153957\n",
      "EX_ca2_e: -0.004564770501092374\n",
      "EX_ni2_e: -0.000283270100259911\n",
      "EX_meoh_e: 1.7539944288539381e-06\n",
      "EX_cu2_e: -0.0006217910250287211\n",
      "EX_cobalt2_e: -2.1924930360674228e-05\n",
      "EX_h2o_e: 47.16236480869412\n",
      "EX_mobd_e: -6.138980500988784e-06\n",
      "EX_so4_e: -0.22084543853699973\n",
      "EX_nh4_e: -9.471495371047805\n",
      "EX_k_e: -0.17118371727564338\n",
      "EX_cl_e: -0.004564770501092374\n",
      "DM_5drib_c: 0.00019732437324606806\n",
      "EX_o2_e: -22.131763238946302\n",
      "DM_4crsol_c: 0.00019557037881721411\n"
     ]
    }
   ],
   "source": [
    "# Metabolic model:\n",
    "biomass_rxn_id = \"BIOMASS_Ec_iML1515_core_75p37M\"\n",
    "met_sol_biomass = cobra.flux_analysis.pfba(met_model)\n",
    "print_fluxes(met_model, met_sol_biomass, biomass_rxn_id)"
   ]
  },
  {
   "cell_type": "code",
   "execution_count": 10,
   "metadata": {},
   "outputs": [
    {
     "name": "stdout",
     "output_type": "stream",
     "text": [
      "growth: 0.5743654341118459\n",
      "EX_h_e: 134.23853676145438\n",
      "EX_co2_e: 0.44365060832324055\n",
      "EX_pyr_e: 128.96132171755437\n",
      "EX_glyclt_e: 0.0002561669836139424\n",
      "EX_lac__D_e: -3.311129148642067e-12\n",
      "EX_h2o_e: 143.61591832922525\n",
      "EX_etoh_e: 0.9548031058528785\n",
      "DM_5drib_c: 0.00025616698361388327\n",
      "DM_mththf_c: 0.00025616698361388327\n",
      "EX_pi_e_REV: 0.5540363439368159\n",
      "EX_mn2_e_REV: 0.00039688651497128555\n",
      "EX_btn_e_REV: 1.1487308682236917e-06\n",
      "EX_fe2_e_REV: 0.009224883237270356\n",
      "EX_glc__D_e_REV: 68.80204146625192\n",
      "EX_thm_e_REV: 0.00012808349180694163\n",
      "EX_zn2_e_REV: 0.00019585861303213946\n",
      "EX_mg2_e_REV: 0.004982620140920263\n",
      "EX_ca2_e_REV: 0.0029895720845521585\n",
      "EX_ni2_e_REV: 0.00018552003521812624\n",
      "EX_cobalt2_e_REV: 1.435913585279615e-05\n",
      "EX_nh4_e_REV: 6.202577492262535\n",
      "EX_mobd_e_REV: 4.020558038782922e-06\n",
      "EX_so4_e_REV: 0.14450632266450206\n",
      "EX_k_e_REV: 0.11211211218059354\n",
      "EX_o2_e_REV: 62.74441833679438\n",
      "EX_cu_e_REV: 0.00040722509278529875\n",
      "EX_cl_e_REV: 0.0029895720845521585\n",
      "prot_pool_exchange: 0.0909113178074544\n"
     ]
    }
   ],
   "source": [
    "# ecModel:\n",
    "ec_sol_biomass = simulate_ec_model(ec_model, biomass_rxn_id)\n",
    "print_fluxes(ec_model, ec_sol_biomass, biomass_rxn_id)\n"
   ]
  },
  {
   "cell_type": "markdown",
   "metadata": {},
   "source": [
    "2.2 Increased L-serine conditions:"
   ]
  },
  {
   "cell_type": "code",
   "execution_count": 11,
   "metadata": {},
   "outputs": [
    {
     "name": "stdout",
     "output_type": "stream",
     "text": [
      "growth: 0.7015977715415753\n",
      "EX_pi_e: -0.6767654200157409\n",
      "EX_co2_e: 18.288266299990973\n",
      "EX_h_e: 10.751349701898004\n",
      "EX_mn2_e: -0.00048480406013522853\n",
      "EX_fe2_e: -0.01126836180872924\n",
      "EX_glc__D_e: -10.0\n",
      "EX_ser__L_e: 4.304789439463108\n",
      "EX_zn2_e: -0.0002392448400956772\n",
      "DM_amob_c: 1.4031955430831507e-06\n",
      "EX_mg2_e: -0.006086360668123166\n",
      "EX_ca2_e: -0.0036518164008739\n",
      "EX_ni2_e: -0.00022661608020792883\n",
      "EX_meoh_e: 1.4031955430831507e-06\n",
      "EX_cu2_e: -0.000497432820022977\n",
      "EX_cobalt2_e: -1.7539944288539383e-05\n",
      "EX_h2o_e: 41.12031296802939\n",
      "EX_mobd_e: -4.911184400791027e-06\n",
      "EX_so4_e: -0.17667635082959982\n",
      "EX_nh4_e: -11.881985736301777\n",
      "EX_k_e: -0.1369469738205147\n",
      "EX_cl_e: -0.0036518164008739\n",
      "DM_5drib_c: 0.00015785949859685447\n",
      "EX_o2_e: -18.943436992498604\n",
      "DM_4crsol_c: 0.0001564563030537713\n"
     ]
    }
   ],
   "source": [
    "# Metabolic model:\n",
    "Serine_rxn_id = \"EX_ser__L_e\"\n",
    "met_model.reactions.get_by_id(biomass_rxn_id).lower_bound = 0.8 * met_sol_biomass.fluxes[biomass_rxn_id]\n",
    "met_model.objective = Serine_rxn_id\n",
    "met_sol_serine = cobra.flux_analysis.pfba(met_model)\n",
    "print_fluxes(met_model, met_sol_serine, biomass_rxn_id)"
   ]
  },
  {
   "cell_type": "code",
   "execution_count": 12,
   "metadata": {},
   "outputs": [
    {
     "name": "stdout",
     "output_type": "stream",
     "text": [
      "growth: 0.45949234728947674\n",
      "EX_h_e: 119.39706529211908\n",
      "EX_ac_e: 2.6989523382512175\n",
      "EX_pyr_e: 110.9493171445139\n",
      "EX_ser__L_e: 1.5270205659256448\n",
      "EX_tre_e: -9.126424060923455e-08\n",
      "EX_glyclt_e: 0.00020493358689122054\n",
      "EX_lac__D_e: 3.2083057064368153e-06\n",
      "EX_h2o_e: 122.31790554898666\n",
      "EX_etoh_e: 2.2910313575495893\n",
      "DM_5drib_c: 0.00020493358689110662\n",
      "DM_mththf_c: 0.00020493358689110548\n",
      "EX_pi_e_REV: 0.44322907514957244\n",
      "EX_mn2_e_REV: 0.00031750921197702843\n",
      "EX_btn_e_REV: 9.189846945789534e-07\n",
      "EX_fe2_e_REV: 0.007379906589816285\n",
      "EX_glc__D_e_REV: 61.04483508542177\n",
      "EX_thm_e_REV: 0.00010246679344555331\n",
      "EX_zn2_e_REV: 0.00015668689042571155\n",
      "EX_mg2_e_REV: 0.003986096112736211\n",
      "EX_ca2_e_REV: 0.002391657667641727\n",
      "EX_ni2_e_REV: 0.000148416028174501\n",
      "EX_cobalt2_e_REV: 1.1487308682236919e-05\n",
      "EX_nh4_e_REV: 6.489082559735857\n",
      "EX_mobd_e_REV: 3.216446431026337e-06\n",
      "EX_so4_e_REV: 0.11560505813160146\n",
      "EX_k_e_REV: 0.08968968974447483\n",
      "EX_o2_e_REV: 52.96706547810774\n",
      "EX_cu_e_REV: 0.000325780074228239\n",
      "EX_cl_e_REV: 0.002391657667641727\n",
      "prot_pool_exchange: 0.0909113178074544\n"
     ]
    }
   ],
   "source": [
    "# ecModel:\n",
    "ec_model.reactions.get_by_id(biomass_rxn_id).lower_bound = 0.8 * ec_sol_biomass.fluxes[biomass_rxn_id]\n",
    "ec_sol_serine = simulate_ec_model(ec_model, Serine_rxn_id)\n",
    "print_fluxes(ec_model, ec_sol_serine, biomass_rxn_id)"
   ]
  },
  {
   "cell_type": "raw",
   "metadata": {},
   "source": [
    "3. Comparing enzyme usage"
   ]
  },
  {
   "cell_type": "code",
   "execution_count": 13,
   "metadata": {},
   "outputs": [
    {
     "name": "stdout",
     "output_type": "stream",
     "text": [
      "        gene  biomass_usage  serine_usage\n",
      "O32583  thiS   0.000000e+00  0.000000e+00\n",
      "P00350   gnd   0.000000e+00  0.000000e+00\n",
      "P00363  frdA   0.000000e+00  0.000000e+00\n",
      "P00370  gdhA   4.731638e-08  5.265849e-08\n",
      "P00393   ndh   0.000000e+00  0.000000e+00\n",
      "...      ...            ...           ...\n",
      "Q59385  copA   0.000000e+00  0.000000e+00\n",
      "Q6BEX0  ytfR   0.000000e+00  0.000000e+00\n",
      "Q6BF16  dgoA   0.000000e+00  0.000000e+00\n",
      "Q6BF17  dgoD   0.000000e+00  0.000000e+00\n",
      "Q93K97  nudF   0.000000e+00  0.000000e+00\n",
      "\n",
      "[1259 rows x 3 columns]\n"
     ]
    }
   ],
   "source": [
    "import pandas as pd\n",
    "\n",
    "usage_df = pd.DataFrame()\n",
    "for reaction in ec_model.reactions:\n",
    "    if \"draw_prot_\" in reaction.id:\n",
    "        gene_id = reaction.gene_reaction_rule\n",
    "        new_line = pd.DataFrame(index = [reaction.id[-6:]],\n",
    "                                data = {\"gene\":[met_model.genes.get_by_id(gene_id).name],\n",
    "                                        \"biomass_usage\":[ec_sol_biomass.fluxes[reaction.id]],\n",
    "                                        \"serine_usage\":[ec_sol_serine.fluxes[reaction.id]]})\n",
    "        usage_df = usage_df.append(new_line)\n",
    "\n",
    "print(usage_df)\n"
   ]
  },
  {
   "cell_type": "markdown",
   "metadata": {},
   "source": [
    "Let's make sure all values are positive:\n"
   ]
  },
  {
   "cell_type": "code",
   "execution_count": 14,
   "metadata": {},
   "outputs": [
    {
     "name": "stdout",
     "output_type": "stream",
     "text": [
      "        gene  biomass_usage  serine_usage\n",
      "O32583  thiS            0.0           0.0\n",
      "P32674  pflD            0.0           0.0\n",
      "P32669  fsaB            0.0           0.0\n",
      "P32664  nudC            0.0           0.0\n",
      "P32662   gph            0.0           0.0\n",
      "        gene  biomass_usage  serine_usage\n",
      "O32583  thiS            0.0           0.0\n",
      "P0AAI1  ssuB            0.0           0.0\n",
      "P0ABK5  cysK            0.0           0.0\n",
      "P0ABK9  nrfA            0.0           0.0\n",
      "P0ABL1  nrfB            0.0           0.0\n"
     ]
    }
   ],
   "source": [
    "usage_df = usage_df.sort_values(by=['biomass_usage'])\n",
    "print(usage_df.head(n=5))\n",
    "usage_df = usage_df.sort_values(by=['serine_usage'])\n",
    "print(usage_df.head(n=5))"
   ]
  },
  {
   "cell_type": "markdown",
   "metadata": {},
   "source": [
    "One value was slightly negative, probably due to solver approximations. Let's change that:"
   ]
  },
  {
   "cell_type": "code",
   "execution_count": 15,
   "metadata": {},
   "outputs": [
    {
     "name": "stdout",
     "output_type": "stream",
     "text": [
      "        gene  biomass_usage  serine_usage\n",
      "O32583  thiS            0.0           0.0\n",
      "P0AAI1  ssuB            0.0           0.0\n",
      "P0ABK5  cysK            0.0           0.0\n",
      "P0ABK9  nrfA            0.0           0.0\n",
      "P0ABL1  nrfB            0.0           0.0\n"
     ]
    }
   ],
   "source": [
    "usage_df.loc[usage_df[\"serine_usage\"] < 0, \"serine_usage\"] = 0\n",
    "print(usage_df.head(n=5))"
   ]
  },
  {
   "cell_type": "markdown",
   "metadata": {},
   "source": [
    "There are a lot of rows with zero usage under both conditions, so let's filter them out:"
   ]
  },
  {
   "cell_type": "code",
   "execution_count": 16,
   "metadata": {},
   "outputs": [
    {
     "name": "stdout",
     "output_type": "stream",
     "text": [
      "        gene  biomass_usage  serine_usage\n",
      "P77580  mhpF   3.722318e-09  0.000000e+00\n",
      "P52647   pfo   1.845907e-07  0.000000e+00\n",
      "P13482  treA   0.000000e+00  1.273958e-13\n",
      "P76536  yfeX   1.368444e-12  1.094755e-12\n",
      "P52643  ldhA   0.000000e+00  1.220824e-12\n",
      "...      ...            ...           ...\n",
      "P0A825  glyA   1.962638e-05  1.011990e-04\n",
      "P0A953  fabB   1.552053e-04  1.241642e-04\n",
      "P00934  thrC   8.802668e-05  1.764638e-04\n",
      "P21151  fadA   2.255986e-04  1.804788e-04\n",
      "P0A9B2  gapA   2.695271e-04  2.394442e-04\n",
      "\n",
      "[294 rows x 3 columns]\n"
     ]
    }
   ],
   "source": [
    "usage_df = usage_df.query(\"biomass_usage > 0 or serine_usage > 0\")\n",
    "print(usage_df)"
   ]
  },
  {
   "cell_type": "markdown",
   "metadata": {},
   "source": [
    "Now let's compute usage changes. We will look at both absolute changes (the difference between both conditions) and relative changes (the fold change or ratio between them)."
   ]
  },
  {
   "cell_type": "code",
   "execution_count": 17,
   "metadata": {},
   "outputs": [
    {
     "name": "stdout",
     "output_type": "stream",
     "text": [
      "        gene  biomass_usage  serine_usage   abs_changes  rel_changes\n",
      "P77580  mhpF   3.722318e-09  0.000000e+00 -3.722318e-09     0.000000\n",
      "P52647   pfo   1.845907e-07  0.000000e+00 -1.845907e-07     0.000000\n",
      "P13482  treA   0.000000e+00  1.273958e-13  1.273958e-13          inf\n",
      "P76536  yfeX   1.368444e-12  1.094755e-12 -2.736888e-13     0.800000\n",
      "P52643  ldhA   0.000000e+00  1.220824e-12  1.220824e-12          inf\n",
      "...      ...            ...           ...           ...          ...\n",
      "P0A825  glyA   1.962638e-05  1.011990e-04  8.157265e-05     5.156275\n",
      "P0A953  fabB   1.552053e-04  1.241642e-04 -3.104106e-05     0.800000\n",
      "P00934  thrC   8.802668e-05  1.764638e-04  8.843708e-05     2.004662\n",
      "P21151  fadA   2.255986e-04  1.804788e-04 -4.511971e-05     0.800000\n",
      "P0A9B2  gapA   2.695271e-04  2.394442e-04 -3.008292e-05     0.888386\n",
      "\n",
      "[294 rows x 5 columns]\n"
     ]
    }
   ],
   "source": [
    "usage_df[\"abs_changes\"] = usage_df[\"serine_usage\"] - usage_df[\"biomass_usage\"]\n",
    "usage_df[\"rel_changes\"] = usage_df[\"serine_usage\"] / usage_df[\"biomass_usage\"]\n",
    "print(usage_df)"
   ]
  },
  {
   "cell_type": "raw",
   "metadata": {},
   "source": [
    "• 20 of enzymes that increased their absolute usage the most:\n"
   ]
  },
  {
   "cell_type": "code",
   "execution_count": 18,
   "metadata": {},
   "outputs": [
    {
     "name": "stdout",
     "output_type": "stream",
     "text": [
      "        gene  biomass_usage  serine_usage   abs_changes  rel_changes\n",
      "P00934  thrC   8.802668e-05  1.764638e-04  8.843708e-05     2.004662\n",
      "P0A825  glyA   1.962638e-05  1.011990e-04  8.157265e-05     5.156275\n",
      "P0A9N4  pflA   2.208713e-05  5.080758e-05  2.872045e-05     2.300325\n",
      "P09373  pflB   2.208713e-05  5.080758e-05  2.872045e-05     2.300325\n",
      "P24186  folD   6.912624e-06  2.898666e-05  2.207404e-05     4.193294\n",
      "P00547  thrB   1.924166e-05  3.857197e-05  1.933031e-05     2.004608\n",
      "P00562  metL   1.668142e-05  3.213054e-05  1.544912e-05     1.926128\n",
      "P08660  lysC   7.686946e-06  1.363058e-05  5.943637e-06     1.773212\n",
      "P0A9Q9   asd   2.327062e-06  4.126374e-06  1.799312e-06     1.773212\n",
      "P07003  poxB   2.359086e-06  3.919941e-06  1.560855e-06     1.661636\n",
      "P00864   ppc   1.365867e-06  1.878193e-06  5.123260e-07     1.375092\n",
      "P04693  tyrB   1.195994e-06  1.589883e-06  3.938886e-07     1.329340\n",
      "P39451  adhP   1.611326e-07  3.866345e-07  2.255019e-07     2.399480\n",
      "P28861   fpr   0.000000e+00  2.669459e-08  2.669459e-08          inf\n",
      "P00370  gdhA   4.731638e-08  5.265849e-08  5.342104e-09     1.112902\n",
      "P52643  ldhA   0.000000e+00  1.220824e-12  1.220824e-12          inf\n",
      "P13482  treA   0.000000e+00  1.273958e-13  1.273958e-13          inf\n",
      "P76536  yfeX   1.368444e-12  1.094755e-12 -2.736888e-13     0.800000\n",
      "P0AF01  modB   3.918677e-12  3.134942e-12 -7.837354e-13     0.800000\n",
      "P09833  modC   3.918677e-12  3.134942e-12 -7.837354e-13     0.800000\n"
     ]
    }
   ],
   "source": [
    "usage_df = usage_df.sort_values(by=['abs_changes'])\n",
    "print(usage_df.tail(n=20).iloc[::-1])"
   ]
  },
  {
   "cell_type": "markdown",
   "metadata": {},
   "source": [
    "•  20 of enzymes that decreased their absolute usage the most:"
   ]
  },
  {
   "cell_type": "code",
   "execution_count": 19,
   "metadata": {},
   "outputs": [
    {
     "name": "stdout",
     "output_type": "stream",
     "text": [
      "        gene  biomass_usage  serine_usage  abs_changes  rel_changes\n",
      "P21151  fadA       0.000226      0.000180    -0.000045     0.800000\n",
      "P0A953  fabB       0.000155      0.000124    -0.000031     0.800000\n",
      "P0A9B2  gapA       0.000270      0.000239    -0.000030     0.888386\n",
      "P17854  cysH       0.000118      0.000094    -0.000024     0.800000\n",
      "P0AC62  grxC       0.000118      0.000094    -0.000024     0.800000\n",
      "P0A9C5  glnA       0.000083      0.000067    -0.000017     0.800000\n",
      "P0A6E4  argG       0.000069      0.000055    -0.000014     0.800000\n",
      "P36683  acnB       0.000065      0.000052    -0.000013     0.800000\n",
      "P0A6C5  argA       0.000061      0.000048    -0.000012     0.800000\n",
      "P16690  phnN       0.000046      0.000037    -0.000009     0.800000\n",
      "P0A955   eda       0.000067      0.000059    -0.000007     0.887892\n",
      "P0A6A8  acpP       0.000033      0.000026    -0.000007     0.800000\n",
      "P31119   aas       0.000032      0.000026    -0.000006     0.800000\n",
      "P11446  argC       0.000032      0.000026    -0.000006     0.800000\n",
      "P0A6T5  folE       0.000030      0.000024    -0.000006     0.800000\n",
      "P0A6P9   eno       0.000047      0.000042    -0.000005     0.888386\n",
      "P0A6V8   glk       0.000047      0.000041    -0.000005     0.887253\n",
      "P05020  pyrC       0.000021      0.000017    -0.000004     0.800000\n",
      "P0AEK2  fabG       0.000021      0.000017    -0.000004     0.800000\n",
      "P15639  purH       0.000020      0.000016    -0.000004     0.800000\n"
     ]
    }
   ],
   "source": [
    "print(usage_df.head(n=20))\n"
   ]
  },
  {
   "cell_type": "markdown",
   "metadata": {},
   "source": [
    "• 20 of enzymes that increased their relative usage the most"
   ]
  },
  {
   "cell_type": "code",
   "execution_count": 20,
   "metadata": {},
   "outputs": [
    {
     "name": "stdout",
     "output_type": "stream",
     "text": [
      "        gene  biomass_usage  serine_usage   abs_changes  rel_changes\n",
      "P52643  ldhA   0.000000e+00  1.220824e-12  1.220824e-12          inf\n",
      "P28861   fpr   0.000000e+00  2.669459e-08  2.669459e-08          inf\n",
      "P13482  treA   0.000000e+00  1.273958e-13  1.273958e-13          inf\n",
      "P0A825  glyA   1.962638e-05  1.011990e-04  8.157265e-05     5.156275\n",
      "P24186  folD   6.912624e-06  2.898666e-05  2.207404e-05     4.193294\n",
      "P39451  adhP   1.611326e-07  3.866345e-07  2.255019e-07     2.399480\n",
      "P0A9N4  pflA   2.208713e-05  5.080758e-05  2.872045e-05     2.300325\n",
      "P09373  pflB   2.208713e-05  5.080758e-05  2.872045e-05     2.300325\n",
      "P00934  thrC   8.802668e-05  1.764638e-04  8.843708e-05     2.004662\n",
      "P00547  thrB   1.924166e-05  3.857197e-05  1.933031e-05     2.004608\n",
      "P00562  metL   1.668142e-05  3.213054e-05  1.544912e-05     1.926128\n",
      "P08660  lysC   7.686946e-06  1.363058e-05  5.943637e-06     1.773212\n",
      "P0A9Q9   asd   2.327062e-06  4.126374e-06  1.799312e-06     1.773212\n",
      "P07003  poxB   2.359086e-06  3.919941e-06  1.560855e-06     1.661636\n",
      "P00864   ppc   1.365867e-06  1.878193e-06  5.123260e-07     1.375092\n",
      "P04693  tyrB   1.195994e-06  1.589883e-06  3.938886e-07     1.329340\n",
      "P00370  gdhA   4.731638e-08  5.265849e-08  5.342104e-09     1.112902\n",
      "P0ABJ6  cyoD   1.525004e-05  1.373357e-05 -1.516479e-06     0.900559\n",
      "P0ABI8  cyoB   1.525004e-05  1.373357e-05 -1.516479e-06     0.900559\n",
      "P0ABJ3  cyoC   1.525004e-05  1.373357e-05 -1.516479e-06     0.900559\n"
     ]
    }
   ],
   "source": [
    "usage_df = usage_df.sort_values(by=['rel_changes'])\n",
    "print(usage_df.tail(n=20).iloc[::-1])"
   ]
  },
  {
   "cell_type": "markdown",
   "metadata": {},
   "source": [
    "• 20 of enzymes that decreased their relative usage the most:"
   ]
  },
  {
   "cell_type": "code",
   "execution_count": 21,
   "metadata": {},
   "outputs": [
    {
     "name": "stdout",
     "output_type": "stream",
     "text": [
      "        gene  biomass_usage  serine_usage   abs_changes  rel_changes\n",
      "P52647   pfo   1.845907e-07  0.000000e+00 -1.845907e-07     0.000000\n",
      "P77580  mhpF   3.722318e-09  0.000000e+00 -3.722318e-09     0.000000\n",
      "P0A6A3  ackA   3.245591e-07  5.773203e-09 -3.187859e-07     0.017788\n",
      "P77218  eutD   1.173068e-06  1.731961e-07 -9.998716e-07     0.147644\n",
      "P0ABY4  fldB   2.961680e-06  2.248366e-06 -7.133140e-07     0.759152\n",
      "P0ADU2  ygiN   4.278245e-07  3.335485e-07 -9.427594e-08     0.779639\n",
      "P0AGD3  sodB   1.112328e-07  8.672137e-08 -2.451139e-08     0.779639\n",
      "P0A7B3  nadK   5.705306e-10  4.564245e-10 -1.141061e-10     0.800000\n",
      "P0ABQ0   dfp   1.592795e-07  1.274236e-07 -3.185591e-08     0.800000\n",
      "P0A790  panD   1.654367e-07  1.323494e-07 -3.308734e-08     0.800000\n",
      "P0A6I9  coaE   2.235631e-06  1.788505e-06 -4.471263e-07     0.800000\n",
      "P0A6I3  coaA   9.432622e-08  7.546098e-08 -1.886524e-08     0.800000\n",
      "P31663  panC   7.680894e-08  6.144715e-08 -1.536179e-08     0.800000\n",
      "P0A6I6  coaD   2.215811e-08  1.772649e-08 -4.431621e-09     0.800000\n",
      "P31057  panB   1.373355e-07  1.098684e-07 -2.746710e-08     0.800000\n",
      "P0A9J4  panE   4.301316e-09  3.441053e-09 -8.602632e-10     0.800000\n",
      "P04079  guaA   1.623754e-05  1.299003e-05 -3.247507e-06     0.800000\n",
      "P60546   gmk   4.311755e-07  3.449404e-07 -8.623510e-08     0.800000\n",
      "P0ADG7  guaB   1.251812e-05  1.001449e-05 -2.503623e-06     0.800000\n",
      "P45578  luxS   1.778926e-07  1.423141e-07 -3.557852e-08     0.800000\n"
     ]
    }
   ],
   "source": [
    "print(usage_df.head(n=20))"
   ]
  },
  {
   "cell_type": "markdown",
   "metadata": {},
   "source": [
    "4. Using cameo\n",
    "\n",
    "We will use the FSEOF approach from cameo on the ecModel to validate the results from the previous section:\n"
   ]
  },
  {
   "cell_type": "code",
   "execution_count": 22,
   "metadata": {},
   "outputs": [
    {
     "name": "stdout",
     "output_type": "stream",
     "text": [
      "                        5         6         7         8         9         10\n",
      "draw_prot_P00547  0.000062  0.000071  0.000079  0.000088  0.000096  0.000105\n",
      "draw_prot_P00562  0.000051  0.000058  0.000065  0.000071  0.000078  0.000085\n",
      "draw_prot_P00864  0.000002  0.000003  0.000003  0.000003  0.000003  0.000004\n",
      "draw_prot_P00934  0.000284  0.000323  0.000362  0.000402  0.000441  0.000480\n",
      "draw_prot_P02918  0.000000  0.000000  0.000000  0.000000  0.000000  0.000000\n",
      "draw_prot_P04693  0.000002  0.000002  0.000002  0.000003  0.000003  0.000003\n",
      "draw_prot_P07003  0.000007  0.000008  0.000009  0.000010  0.000010  0.000011\n",
      "draw_prot_P07623  0.000000  0.000000  0.000000  0.000000  0.000000  0.000000\n",
      "draw_prot_P08660  0.000021  0.000023  0.000026  0.000029  0.000031  0.000034\n",
      "draw_prot_P09373  0.000086  0.000099  0.000111  0.000124  0.000137  0.000149\n",
      "draw_prot_P0A6A3  0.000000  0.000000  0.000000  0.000000  0.000000  0.000001\n",
      "draw_prot_P0A6D3  0.000000  0.000000  0.000000  0.000000  0.000000  0.000000\n",
      "draw_prot_P0A6E1  0.000001  0.000001  0.000001  0.000000  0.000000  0.000000\n",
      "draw_prot_P0A6W3  0.000000  0.000000  0.000000  0.000000  0.000000  0.000000\n",
      "draw_prot_P0A722  0.000000  0.000000  0.000000  0.000000  0.000000  0.000000\n",
      "draw_prot_P0A725  0.000001  0.000001  0.000001  0.000001  0.000000  0.000000\n",
      "draw_prot_P0A749  0.000001  0.000000  0.000000  0.000000  0.000000  0.000000\n",
      "draw_prot_P0A7B5  0.000001  0.000001  0.000001  0.000001  0.000000  0.000000\n",
      "draw_prot_P0A7D7  0.000001  0.000000  0.000000  0.000000  0.000000  0.000000\n",
      "draw_prot_P0A7E1  0.000000  0.000000  0.000000  0.000000  0.000000  0.000000\n",
      "draw_prot_P0A7E5  0.000001  0.000001  0.000001  0.000001  0.000000  0.000000\n",
      "draw_prot_P0A825  0.000201  0.000237  0.000273  0.000309  0.000346  0.000382\n",
      "draw_prot_P0A840  0.000000  0.000000  0.000000  0.000000  0.000000  0.000000\n",
      "draw_prot_P0A9N4  0.000086  0.000099  0.000111  0.000124  0.000137  0.000149\n",
      "draw_prot_P0A9Q9  0.000006  0.000007  0.000008  0.000009  0.000010  0.000010\n",
      "draw_prot_P0ABY4  0.000002  0.000001  0.000001  0.000001  0.000001  0.000000\n",
      "draw_prot_P0AC13  0.000001  0.000000  0.000000  0.000000  0.000000  0.000000\n",
      "draw_prot_P0AD65  0.000000  0.000000  0.000000  0.000000  0.000000  0.000000\n",
      "draw_prot_P0AD68  0.000000  0.000000  0.000000  0.000000  0.000000  0.000000\n",
      "draw_prot_P0AGG0  0.000000  0.000000  0.000000  0.000000  0.000000  0.000000\n",
      "draw_prot_P0AGG2  0.000000  0.000000  0.000000  0.000000  0.000000  0.000000\n",
      "draw_prot_P13009  0.000002  0.000001  0.000001  0.000001  0.000001  0.000000\n",
      "draw_prot_P17169  0.000000  0.000000  0.000000  0.000000  0.000000  0.000000\n",
      "draw_prot_P17846  0.000001  0.000000  0.000000  0.000000  0.000000  0.000000\n",
      "draw_prot_P21156  0.000001  0.000001  0.000001  0.000000  0.000000  0.000000\n",
      "draw_prot_P21179  0.000000  0.000000  0.000000  0.000000  0.000000  0.000000\n",
      "draw_prot_P23845  0.000001  0.000001  0.000001  0.000000  0.000000  0.000000\n",
      "draw_prot_P23893  0.000000  0.000000  0.000000  0.000000  0.000000  0.000000\n",
      "draw_prot_P24186  0.000056  0.000066  0.000076  0.000085  0.000095  0.000105\n",
      "draw_prot_P27550  0.000000  0.000000  0.000000  0.000000  0.000000  0.000000\n",
      "draw_prot_P31120  0.000001  0.000001  0.000001  0.000001  0.000000  0.000000\n",
      "draw_prot_P38038  0.000001  0.000000  0.000000  0.000000  0.000000  0.000000\n",
      "draw_prot_P39451  0.000001  0.000001  0.000001  0.000001  0.000001  0.000001\n",
      "draw_prot_P62620  0.000002  0.000001  0.000001  0.000001  0.000001  0.000000\n",
      "draw_prot_P62707  0.000004  0.000004  0.000004  0.000004  0.000003  0.000003\n",
      "draw_prot_P77218  0.000006  0.000007  0.000009  0.000011  0.000013  0.000015\n",
      "EX_ser__L_e       3.391660  4.069992  4.748324  5.426657  6.104989  6.783321\n"
     ]
    }
   ],
   "source": [
    "from cameo.strain_design.deterministic.flux_variability_based import FSEOF\n",
    "\n",
    "def ec_fseof(ec_model, biomass_rxn_id, target_rxn_id):\n",
    "    # Revert the ecModel to its original state:\n",
    "    ec_model.reactions.get_by_id(biomass_rxn_id).lower_bound = 0\n",
    "    ec_model.reactions.get_by_id(target_rxn_id).lower_bound = 0\n",
    "    ec_model.objective = biomass_rxn_id\n",
    "    \n",
    "    # Build a list with all rxns except the \"draw_prot_XXXXXX\" ones:\n",
    "    nonDrawList = []\n",
    "    for reaction in ec_model.reactions:\n",
    "        if \"draw_prot\" not in reaction.id:\n",
    "            nonDrawList.append(reaction)\n",
    "\n",
    "    # Run the FSEOF analysis, filtering out any reaction that is not a \"draw_prot_XXXXXX\" rxn:\n",
    "    fseof = FSEOF(ec_model)\n",
    "    fseof_result = fseof.run(target=ec_model.reactions.get_by_id(target_rxn_id), exclude=nonDrawList)\n",
    "    fseof_df = fseof_result.data_frame\n",
    "    return fseof_df\n",
    "\n",
    "fseof_df = ec_fseof(ec_model, biomass_rxn_id, Serine_rxn_id)\n",
    "print(fseof_df.loc[:, \"5\":])"
   ]
  },
  {
   "cell_type": "markdown",
   "metadata": {},
   "source": [
    "We will replace reaction ids with gene names. First, we have to replace with the associated gene ids:\n"
   ]
  },
  {
   "cell_type": "code",
   "execution_count": 23,
   "metadata": {},
   "outputs": [
    {
     "name": "stdout",
     "output_type": "stream",
     "text": [
      "             5         6         7         8         9         10\n",
      "b0003  0.000062  0.000071  0.000079  0.000088  0.000096  0.000105\n",
      "b3940  0.000051  0.000058  0.000065  0.000071  0.000078  0.000085\n",
      "b3956  0.000002  0.000003  0.000003  0.000003  0.000003  0.000004\n",
      "b0004  0.000284  0.000323  0.000362  0.000402  0.000441  0.000480\n",
      "b3396  0.000000  0.000000  0.000000  0.000000  0.000000  0.000000\n"
     ]
    }
   ],
   "source": [
    "def rxn_ids2gene_ids(df, ec_model):\n",
    "    id_dict = {}\n",
    "    for reaction in ec_model.reactions:\n",
    "        if \"draw_prot_\" in reaction.id:\n",
    "            id_dict[reaction.id] = reaction.gene_reaction_rule\n",
    "    df = df.rename(mapper=id_dict)\n",
    "    return df\n",
    "    \n",
    "fseof_df = rxn_ids2gene_ids(fseof_df, ec_model)\n",
    "print(fseof_df.loc[:, \"5\":].head(n=5))\n"
   ]
  },
  {
   "cell_type": "raw",
   "metadata": {},
   "source": [
    "And now using the metabolic model we can replace the labels with gene names:"
   ]
  },
  {
   "cell_type": "code",
   "execution_count": 24,
   "metadata": {},
   "outputs": [
    {
     "name": "stdout",
     "output_type": "stream",
     "text": [
      "            5         6         7         8         9         10\n",
      "thrB  0.000062  0.000071  0.000079  0.000088  0.000096  0.000105\n",
      "metL  0.000051  0.000058  0.000065  0.000071  0.000078  0.000085\n",
      "ppc   0.000002  0.000003  0.000003  0.000003  0.000003  0.000004\n",
      "thrC  0.000284  0.000323  0.000362  0.000402  0.000441  0.000480\n",
      "mrcA  0.000000  0.000000  0.000000  0.000000  0.000000  0.000000\n"
     ]
    }
   ],
   "source": [
    "def gene_ids2gene_names(df, met_model):\n",
    "    id_dict = {}\n",
    "    for gene in met_model.genes:\n",
    "        id_dict[gene.id] = gene.name\n",
    "    df = df.rename(mapper=id_dict)\n",
    "    return df\n",
    "\n",
    "fseof_df = gene_ids2gene_names(fseof_df, met_model)\n",
    "print(fseof_df.loc[:, \"5\":].head(n=5))"
   ]
  },
  {
   "cell_type": "markdown",
   "metadata": {},
   "source": [
    "Finally, we can sort based on the slope of increase in serine production as each protein usage increases:\n"
   ]
  },
  {
   "cell_type": "code",
   "execution_count": 25,
   "metadata": {},
   "outputs": [
    {
     "name": "stdout",
     "output_type": "stream",
     "text": [
      "                    slope\n",
      "adhP         3.391660e+06\n",
      "ackA         3.391660e+06\n",
      "tyrB         2.826384e+06\n",
      "ppc          2.620828e+06\n",
      "asd          8.352596e+05\n",
      "poxB         7.420813e+05\n",
      "eutD         3.935232e+05\n",
      "lysC         2.581454e+05\n",
      "metL         9.946607e+04\n",
      "thrB         7.925699e+04\n",
      "folD         6.938259e+04\n",
      "pflA         5.339593e+04\n",
      "pflB         5.339593e+04\n",
      "glyA         1.872578e+04\n",
      "thrC         1.731230e+04\n",
      "EX_ser__L_e  1.000000e+00\n",
      "gpmA        -2.051745e+06\n",
      "metH        -2.243714e+06\n",
      "ispG        -2.243714e+06\n",
      "fldB        -2.243714e+06\n",
      "lpxC        -2.713328e+06\n",
      "proB        -2.713328e+06\n",
      "glmM        -2.713328e+06\n",
      "pyrG        -2.713328e+06\n",
      "cysN        -2.826384e+06\n",
      "cysD        -2.826384e+06\n",
      "aroL        -2.826384e+06\n",
      "metA        -3.391660e+06\n",
      "pyrD        -3.391660e+06\n",
      "murA        -3.391660e+06\n",
      "folP        -3.391660e+06\n",
      "purC        -3.391660e+06\n",
      "cysI        -3.391660e+06\n",
      "cysJ        -3.391660e+06\n",
      "hemL        -3.391660e+06\n",
      "lpxA        -3.391660e+06\n",
      "thiL        -3.391660e+06\n",
      "katE        -3.391660e+06\n",
      "aroA        -3.391660e+06\n",
      "tesB        -3.391660e+06\n",
      "umpG        -3.391660e+06\n",
      "ftsI        -3.391660e+06\n",
      "acs         -3.391660e+06\n",
      "mrcA        -3.391660e+06\n",
      "glmS        -3.391660e+06\n",
      "mraY        -3.391660e+06\n",
      "mrdA        -3.391660e+06\n"
     ]
    }
   ],
   "source": [
    "import numpy as np\n",
    "\n",
    "def sort_by_slope(df):\n",
    "    # For each row, create a linear model with the serine exchange as prediction, and store the slope of said model:\n",
    "    slopes = pd.DataFrame()\n",
    "    for index, row in df.iterrows():\n",
    "        if sum(row) == 0:\n",
    "            slopes.loc[index,\"slope\"] = 0\n",
    "        else:\n",
    "            x = row\n",
    "            y = df.loc[\"EX_ser__L_e\"]\n",
    "            A = np.vstack([x, np.ones(len(x))]).T\n",
    "            m, c = np.linalg.lstsq(A, y, rcond=None)[0]\n",
    "            slopes.loc[index,\"slope\"] = m\n",
    "            \n",
    "    # Add computed slopes to the dataframe and use them for sorting:\n",
    "    df[\"slope\"] = slopes\n",
    "    df = df.sort_values(by=[\"slope\"], ascending=False)\n",
    "    return df\n",
    "\n",
    "fseof_df = sort_by_slope(fseof_df)\n",
    "print(fseof_df.loc[:, \"slope\":])\n"
   ]
  },
  {
   "cell_type": "markdown",
   "metadata": {},
   "source": [
    "Overall we see consensus with the genes from section 3: \n",
    "    in particular, all genes that cameo predicted to increase in expression as L-serine prediction increases (top 15 genes in the list) \n",
    "    are also in the top 20 genes (expect genes: ackA, eutD, and folD) that increase in terms of relative usage. This validates \n",
    "    1) cameo as a tool for exploring ecModels, and \n",
    "    2) the genes that we had proposed originally.\n"
   ]
  }
 ],
 "metadata": {
  "kernelspec": {
   "display_name": "python3.6",
   "language": "python",
   "name": "python3.6"
  },
  "language_info": {
   "codemirror_mode": {
    "name": "ipython",
    "version": 3
   },
   "file_extension": ".py",
   "mimetype": "text/x-python",
   "name": "python",
   "nbconvert_exporter": "python",
   "pygments_lexer": "ipython3",
   "version": "3.6.12"
  }
 },
 "nbformat": 4,
 "nbformat_minor": 4
}
