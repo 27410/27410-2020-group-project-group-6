{
 "cells": [
  {
   "cell_type": "code",
   "execution_count": 1,
   "metadata": {},
   "outputs": [],
   "source": [
    "import pandas as pd\n",
    "import matplotlib.pyplot as plt\n",
    "plt.style.use('seaborn')\n",
    "%matplotlib inline\n"
   ]
  },
  {
   "cell_type": "code",
   "execution_count": 2,
   "metadata": {},
   "outputs": [],
   "source": [
    "from cobra.io import read_sbml_model\n",
    "model = read_sbml_model('iML1515.xml')"
   ]
  },
  {
   "cell_type": "markdown",
   "metadata": {},
   "source": [
    "## Altering 3 genes involved in L-serine in- and export resulted in L-serine production\n",
    "\n",
    "Results from the FVA and FSEOF analyses, along with the reactions the metabolite ser__L_p (L-serine in the periplasm) participates in, were investigated manually in the model. \n"
   ]
  },
  {
   "cell_type": "code",
   "execution_count": 4,
   "metadata": {},
   "outputs": [
    {
     "data": {
      "text/html": [
       "<div>\n",
       "<style scoped>\n",
       "    .dataframe tbody tr th:only-of-type {\n",
       "        vertical-align: middle;\n",
       "    }\n",
       "\n",
       "    .dataframe tbody tr th {\n",
       "        vertical-align: top;\n",
       "    }\n",
       "\n",
       "    .dataframe thead th {\n",
       "        text-align: right;\n",
       "    }\n",
       "</style>\n",
       "<table border=\"1\" class=\"dataframe\">\n",
       "  <thead>\n",
       "    <tr style=\"text-align: right;\">\n",
       "      <th></th>\n",
       "      <th></th>\n",
       "      <th>PERCENT</th>\n",
       "      <th>FLUX</th>\n",
       "      <th>REACTION_STRING</th>\n",
       "    </tr>\n",
       "    <tr>\n",
       "      <th>RXN_STAT</th>\n",
       "      <th>ID</th>\n",
       "      <th></th>\n",
       "      <th></th>\n",
       "      <th></th>\n",
       "    </tr>\n",
       "  </thead>\n",
       "  <tbody>\n",
       "    <tr>\n",
       "      <th rowspan=\"6\" valign=\"top\">PRODUCING</th>\n",
       "      <th>GPDDA3pp</th>\n",
       "      <td>NaN</td>\n",
       "      <td>0.0</td>\n",
       "      <td>g3ps_p + h2o_p --&gt; glyc3p_p + h_p + ser__L_p</td>\n",
       "    </tr>\n",
       "    <tr>\n",
       "      <th>PSP_Lpp</th>\n",
       "      <td>NaN</td>\n",
       "      <td>0.0</td>\n",
       "      <td>h2o_p + pser__L_p --&gt; pi_p + ser__L_p</td>\n",
       "    </tr>\n",
       "    <tr>\n",
       "      <th>SERt2rpp</th>\n",
       "      <td>NaN</td>\n",
       "      <td>0.0</td>\n",
       "      <td>h_p + ser__L_p --&gt; h_c + ser__L_c</td>\n",
       "    </tr>\n",
       "    <tr>\n",
       "      <th>SERt4pp</th>\n",
       "      <td>NaN</td>\n",
       "      <td>0.0</td>\n",
       "      <td>na1_p + ser__L_p --&gt; na1_c + ser__L_c</td>\n",
       "    </tr>\n",
       "    <tr>\n",
       "      <th>SERtex</th>\n",
       "      <td>NaN</td>\n",
       "      <td>0.0</td>\n",
       "      <td>ser__L_e &lt;=&gt; ser__L_p</td>\n",
       "    </tr>\n",
       "    <tr>\n",
       "      <th>SERtpp</th>\n",
       "      <td>NaN</td>\n",
       "      <td>0.0</td>\n",
       "      <td>ser__L_c --&gt; ser__L_p</td>\n",
       "    </tr>\n",
       "  </tbody>\n",
       "</table>\n",
       "</div>"
      ],
      "text/plain": [
       "<cobra.core.summary.metabolite_summary.MetaboliteSummary at 0x7fcbbac59828>"
      ]
     },
     "execution_count": 4,
     "metadata": {},
     "output_type": "execute_result"
    }
   ],
   "source": [
    "model.metabolites.ser__L_p.summary()"
   ]
  },
  {
   "cell_type": "markdown",
   "metadata": {},
   "source": [
    "Below is reported first the interesting fluxes and yield from the wild type model. \n",
    "Hereafter, the model was altered by manually testing out some of the results from the FSEOF analysis (the ones that seemed to have been changed the most in the analysis). Also what seemed most effectful from the FVA analysis was included, and finally some of the reactions from the reaction summary of the metabolite ser__L_p was knocked out or the flux altered to investigate the effect on serine production and biomass. \n",
    "\n",
    "These gene alterations resulted in L-serine production when optimizing for biomass, meaning the cells would be able to grow while also producing and exporting our amino acid. Inactivating the gene alterations (by making them into a comment, #) revealed that only 3 gene alterations were necessary for serine production. "
   ]
  },
  {
   "cell_type": "code",
   "execution_count": 22,
   "metadata": {},
   "outputs": [
    {
     "name": "stdout",
     "output_type": "stream",
     "text": [
      "WT\n",
      "Biomass flux:  0.8769972144269663\n",
      "Glucose flux:  -10.0\n",
      "Serine efflux:  0.0\n",
      "Yield on glucose:  0.0\n",
      "-------------------------------------------------\n",
      "\n",
      "-------------------------------------------------\n",
      "ALTERED\n",
      "Biomass flux:  0.10122461050800023\n",
      "Glucose flux:  -10.0\n",
      "Serine efflux:  18.5\n",
      "Yield on glucose:  1.85\n"
     ]
    }
   ],
   "source": [
    "# TESTING OUT A LOT\n",
    "\n",
    "with model:\n",
    "    print(\"WT\")\n",
    "    solution = model.optimize()\n",
    "    print('Biomass flux: ', solution.fluxes['BIOMASS_Ec_iML1515_core_75p37M'])\n",
    "    print('Glucose flux: ', solution.fluxes.EX_glc__D_e)\n",
    "    print('Serine efflux: ',solution.fluxes.EX_ser__L_e)\n",
    "    print(\"Yield on glucose: \", solution.fluxes.EX_ser__L_e / (-1*model.reactions.EX_glc__D_e.flux))\n",
    "\n",
    "\n",
    "print('-------------------------------------------------')\n",
    "print('')\n",
    "print('-------------------------------------------------')\n",
    "    \n",
    "with model:\n",
    "    print(\"ALTERED\")\n",
    "    \n",
    "    # From FSEOF:\n",
    "    #model.reactions.PFK_3.bounds = 9.5,1000\n",
    "    #model.reactions.PGI.bounds = 10,1000\n",
    "    #model.reactions.PGK.bounds = -19,-19\n",
    "    #model.reactions.PGL.knock_out()\n",
    "    #model.reactions.PYK.knock_out()\n",
    "    #model.reactions.GND.knock_out()\n",
    "    #model.reactions.G6PDH2r.knock_out()\n",
    "    #model.reactions.PSERT.bounds = 18,1000\n",
    "    #model.reactions.HEX1.bounds = 9,1000\n",
    "    #model.reactions.PSP_L.bounds = 18,1000\n",
    "    #model.reactions.GLCt2pp.bounds = 9.3,1000\n",
    "    #model.reactions.Htex.bounds = -19,-19\n",
    "    #model.reactions.PAPSR2.bounds = -1000, 0.025\n",
    "    #model.reactions.NH4tpp.bounds = 19.6, 1000\n",
    "    #model.reactions.GLUt2rpp.bounds = -1000, 0.000512\n",
    "    #model.reactions.PGCD.bounds = 18.6, 1000\n",
    "    #model.reactions.TPI.bounds = 9.9,1000\n",
    "    #model.reactions.RPI.bounds = -1000, -0.073\n",
    "    #model.reactions.VPAMTr.bounds = -1000, 0.042\n",
    "    \n",
    "    # From FVA: \n",
    "    #model.reactions.SERAT.bounds = 9.6, 1000\n",
    "    #model.reactions.GHMT2r.bounds = 9.45, 1000\n",
    "    #model.reactions.LSERDHr.bounds = 14.5, 1000\n",
    "    #model.reactions.SERD_L.bounds = 14.5, 1000\n",
    "    model.reactions.SERtpp.bounds = 18.5,1000   # *** L-serine export via facilitated transport, value 18.5 from FSEOF\n",
    "    #model.reactions.TRPS2 .bounds = 14.5, 1000 \n",
    "    #model.reactions.GHMT2r.bounds = 9.45, 1000\n",
    "    \n",
    "    # More (from reactions on metabolite ser__L_p):\n",
    "    model.reactions.SERt4pp.knock_out() # *** L-serine via sodium symport (periplasm) (uptake)\n",
    "                                        # Either knocked out or reversed (export of L-serine) - if possible\n",
    "    #model.reactions.SERt4pp.bounds = -1,-1 # Negative flux increases serine exchange (also decreases biomass)\n",
    "    \n",
    "    model.reactions.SERt2rpp.knock_out() # *** L-serine reversible transport via proton symport (periplasm) (uptake)\n",
    "                                         # Either knocked out or reversed (export of L-serine) - if possible\n",
    "    #model.reactions.SERt2rpp.bounds = -1,-1 # Negative flux increases serine exchange (also decreases biomass)\n",
    "    \n",
    "    #model.reactions.PSP_Lpp.bounds = 20,1000\n",
    "    #model.reactions.SERtex.bounds = -18.5,-18.5 # diffusion, flux cannot be altered in reality\n",
    "    solution = model.optimize()\n",
    "    \n",
    "    print('Biomass flux: ', solution.fluxes['BIOMASS_Ec_iML1515_core_75p37M'])\n",
    "    print('Glucose flux: ', solution.fluxes.EX_glc__D_e)\n",
    "    print('Serine efflux: ',solution.fluxes.EX_ser__L_e)\n",
    "    print(\"Yield on glucose: \", solution.fluxes.EX_ser__L_e / (-1*model.reactions.EX_glc__D_e.flux))\n"
   ]
  },
  {
   "cell_type": "markdown",
   "metadata": {},
   "source": [
    " \n",
    "The 3 gene alterations necessary is overexpression of the reaction SERt4pp, an L-serine exporter, and knock outs of the reactions SERt4pp and SERt2rpp, both L-serine importers. \n",
    "\n",
    "Trying different flux boundaries revealed that if the L-serine importers are not knocked out, but instead reversed (negative flux), the L-serine production would increase further. Negative flux would mean that the L-serine importers become exporters, which is probably not possible in reality. Knockout of the importers and overexpression of the native exporter seems like the best solution. It also seems like the flux through the export reaction SERtpp determines the overall L-serine production. We will look into this further. \n",
    "\n",
    "The alterations are implemented into a new model:"
   ]
  },
  {
   "cell_type": "code",
   "execution_count": 27,
   "metadata": {},
   "outputs": [
    {
     "name": "stdout",
     "output_type": "stream",
     "text": [
      "ALTERED MODEL\n",
      "Biomass flux:  0.10122461050799716\n",
      "Glucose flux:  -10.0\n",
      "Serine efflux:  18.5\n",
      "Yield on glucose:  1.85\n"
     ]
    }
   ],
   "source": [
    "# Gene alterations are implemented in a new model\n",
    "altered_model = model.copy()\n",
    "altered_model.reactions.SERtpp.bounds = 0,1000   # L-serine export via facilitated transport\n",
    "altered_model.reactions.SERt4pp.knock_out() # L-serine via sodium symport (periplasm) (uptake)\n",
    "altered_model.reactions.SERt2rpp.knock_out() # L-serine reversible transport via proton symport (periplasm) (uptake)\n",
    "\n",
    "# Checking the results are the same\n",
    "with model:\n",
    "    print(\"ALTERED MODEL\")\n",
    "    altered_model.reactions.SERtpp.bounds = 18.5,1000 \n",
    "    solution = altered_model.optimize()\n",
    "    print('Biomass flux: ', solution.fluxes['BIOMASS_Ec_iML1515_core_75p37M'])\n",
    "    print('Glucose flux: ', solution.fluxes.EX_glc__D_e)\n",
    "    print('Serine efflux: ', solution.fluxes.EX_ser__L_e)\n",
    "    print(\"Yield on glucose: \", solution.fluxes.EX_ser__L_e / (-1*altered_model.reactions.EX_glc__D_e.flux))"
   ]
  },
  {
   "cell_type": "markdown",
   "metadata": {},
   "source": [
    "In the altered model, the bounds for the export reaction SERtpp is 0-1000, since we want to investigate the optimal overexpression. "
   ]
  },
  {
   "cell_type": "markdown",
   "metadata": {},
   "source": [
    "### Phenotypic phase planes\n",
    "\n",
    "To investigate the relationships between the flux through the L-serine exporter (SERtpp), the overall serine efflux (EX_ser__L_e) and biomass in the new model, we looked into the phenotypic phase planes. \n",
    "\n",
    "First, the effect of the flux in the L-serine exporter (SERtpp) on the overall serine efflux (EX_ser__L_e) was plotted. To determine the relationship, an equation for the trendline was also calculated."
   ]
  },
  {
   "cell_type": "code",
   "execution_count": 13,
   "metadata": {},
   "outputs": [],
   "source": [
    "from cobra.flux_analysis.phenotype_phase_plane import production_envelope, add_envelope\n",
    "import numpy as np"
   ]
  },
  {
   "cell_type": "code",
   "execution_count": 4,
   "metadata": {},
   "outputs": [],
   "source": []
  },
  {
   "cell_type": "code",
   "execution_count": 10,
   "metadata": {},
   "outputs": [],
   "source": [
    "# EX_ser__L_e vs. SERtpp phenotypic phase plane\n",
    "ppp_ser_prod_vs_ser_exporter = production_envelope(altered_model,\n",
    "                    reactions=[altered_model.reactions.SERtpp],\n",
    "                    objective=altered_model.reactions.EX_ser__L_e)"
   ]
  },
  {
   "cell_type": "code",
   "execution_count": 14,
   "metadata": {},
   "outputs": [
    {
     "data": {
      "image/png": "[encoded data removed]",
      "text/plain": [
       "<Figure size 432x288 with 1 Axes>"
      ]
     },
     "metadata": {
      "needs_background": "light"
     },
     "output_type": "display_data"
    }
   ],
   "source": [
    "# Creating the trendline and plotting\n",
    "z = np.polyfit(ppp_ser_prod_vs_ser_exporter['SERtpp'], ppp_ser_prod_vs_ser_exporter['flux_maximum'], 1)\n",
    "p = np.poly1d(z)\n",
    "plt.plot(ppp_ser_prod_vs_ser_exporter['SERtpp'],ppp_ser_prod_vs_ser_exporter['flux_maximum'],'-')\n",
    "plt.ylabel('EX_ser__L_e')\n",
    "plt.xlabel('SERtpp')\n",
    "plt.title(\"EX_ser__L_e = %.6f SERtpp + %.6f\"%(z[0],z[1])) # trendline equation\n",
    "plt.show()"
   ]
  },
  {
   "cell_type": "markdown",
   "metadata": {},
   "source": [
    "As seen, there is a 1:1 relationship, and in the altered model, the level of flux through the L-serine exporter will determine overall export and therefore the L-serine available from the production. It is beneficial to maximize the export from SERtpp as much as possible, while maintaining growth. Therefore, the phenotypic phase plane for growth affected by SERtpp flux is visualized."
   ]
  },
  {
   "cell_type": "code",
   "execution_count": 15,
   "metadata": {},
   "outputs": [],
   "source": [
    "ppp_ser_exporter = production_envelope(altered_model,\n",
    "                    reactions=[altered_model.reactions.SERtpp],\n",
    "                    objective=altered_model.reactions.BIOMASS_Ec_iML1515_core_75p37M)"
   ]
  },
  {
   "cell_type": "code",
   "execution_count": 16,
   "metadata": {},
   "outputs": [
    {
     "data": {
      "image/png": "[encoded data removed]",
      "text/plain": [
       "<Figure size 432x288 with 1 Axes>"
      ]
     },
     "metadata": {
      "needs_background": "light"
     },
     "output_type": "display_data"
    }
   ],
   "source": [
    "# Creating the trendline and plotting\n",
    "z = np.polyfit(ppp_ser_exporter['SERtpp'], ppp_ser_exporter['flux_maximum'], 1)\n",
    "p = np.poly1d(z)\n",
    "plt.plot(ppp_ser_exporter['SERtpp'],ppp_ser_exporter['flux_maximum'],'-')\n",
    "plt.ylabel('BIOMASS_Ec_iML1515_core_75p37M')\n",
    "plt.xlabel('SERtpp')\n",
    "plt.title(\"biomass = %.6f SERtpp + %.6f\"%(z[0],z[1])) # trendline equation\n",
    "plt.show()"
   ]
  },
  {
   "cell_type": "markdown",
   "metadata": {},
   "source": [
    "Maximum biomass results in no flux through the exporter, but too much flux through SERtpp will stop the cells from growing. The equation for the relationship can be used when designing the production process of L-serine to determine the opitmal overexpression of the SERtpp exporter that will result in maxiumum L-serine production when also taking the growing biomass into account. \n",
    "\n",
    "Further calculations are omitted from this project but would among other things depend on the production process. In a batch production increasing biomass would be more important than in a fed-batch, where a large inoculum could be used and the population size should not grow particularly, but be maintained at a certain level. \n",
    "\n",
    "Another strategy for maximizing L-serine production in a bacth fermentation could be inducible production, where the expression of SERtpp  is activated from an inducible promoter only after the biomass has reached a certain level. \n"
   ]
  }
 ],
 "metadata": {
  "kernelspec": {
   "display_name": "python3.6",
   "language": "python",
   "name": "python3.6"
  },
  "language_info": {
   "codemirror_mode": {
    "name": "ipython",
    "version": 3
   },
   "file_extension": ".py",
   "mimetype": "text/x-python",
   "name": "python",
   "nbconvert_exporter": "python",
   "pygments_lexer": "ipython3",
   "version": "3.6.12"
  }
 },
 "nbformat": 4,
 "nbformat_minor": 4
}
