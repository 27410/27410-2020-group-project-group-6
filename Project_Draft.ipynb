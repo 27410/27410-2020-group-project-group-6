{
 "cells": [
  {
   "cell_type": "code",
   "execution_count": 1,
   "metadata": {},
   "outputs": [],
   "source": [
    "import pandas as pd\n",
    "import matplotlib.pyplot as plt\n",
    "plt.style.use('seaborn')\n",
    "%matplotlib inline\n",
    "import escher\n",
    "from cobra.flux_analysis.phenotype_phase_plane import production_envelope, add_envelope"
   ]
  },
  {
   "cell_type": "code",
   "execution_count": 2,
   "metadata": {},
   "outputs": [],
   "source": [
    "from cobra.io import read_sbml_model\n",
    "model = read_sbml_model('iML1515.xml')"
   ]
  },
  {
   "cell_type": "code",
   "execution_count": 3,
   "metadata": {},
   "outputs": [
    {
     "name": "stdout",
     "output_type": "stream",
     "text": [
      "ser__L_c\n",
      "ser__L_p\n",
      "ser__L_e\n"
     ]
    }
   ],
   "source": [
    "for metabolite in model.metabolites.query('L-Serine', 'name'):\n",
    "    print(metabolite.id)"
   ]
  },
  {
   "cell_type": "markdown",
   "metadata": {},
   "source": [
    "Reactions w. L-Serin in different compartments"
   ]
  },
  {
   "cell_type": "code",
   "execution_count": 17,
   "metadata": {},
   "outputs": [
    {
     "name": "stdout",
     "output_type": "stream",
     "text": [
      "SERD_L: ser__L_c --> nh4_c + pyr_c\n",
      "SERAT: accoa_c + ser__L_c <=> acser_c + coa_c\n",
      "SERASr: atp_c + h_c + ser__L_c <=> ppi_c + seramp_c\n",
      "PSSA180: cdpdodecg_c + ser__L_c --> cmp_c + h_c + ps180_c\n",
      "SERtpp: ser__L_c --> ser__L_p\n",
      "PSSA141: cdpdtdec7eg_c + ser__L_c --> cmp_c + h_c + ps141_c\n",
      "GPDDA3: g3ps_c + h2o_c --> glyc3p_c + h_c + ser__L_c\n",
      "PSSA120: cdpdddecg_c + ser__L_c --> cmp_c + h_c + ps120_c\n",
      "PSP_L: h2o_c + pser__L_c --> pi_c + ser__L_c\n",
      "TRPS1: 3ig3p_c + ser__L_c --> g3p_c + h2o_c + trp__L_c\n",
      "GHMT2r: ser__L_c + thf_c <=> gly_c + h2o_c + mlthf_c\n",
      "LSERDHr: nadp_c + ser__L_c <=> 2amsa_c + h_c + nadph_c\n",
      "PSSA181: cdpdodec11eg_c + ser__L_c --> cmp_c + h_c + ps181_c\n",
      "PSSA161: cdpdhdec9eg_c + ser__L_c --> cmp_c + h_c + ps161_c\n",
      "PSSA140: cdpdtdecg_c + ser__L_c --> cmp_c + h_c + ps140_c\n",
      "DHBSH: 23dhbzs_c + h2o_c --> 23dhb_c + ser__L_c\n",
      "SERt2rpp: h_p + ser__L_p --> h_c + ser__L_c\n",
      "PSSA160: cdpdhdecg_c + ser__L_c --> cmp_c + h_c + ps160_c\n",
      "SERt4pp: na1_p + ser__L_p --> na1_c + ser__L_c\n",
      "TRPS2: indole_c + ser__L_c --> h2o_c + trp__L_c\n"
     ]
    }
   ],
   "source": [
    "ser_reac = list()\n",
    "for reaction in model.metabolites.ser__L_c.reactions:\n",
    "    if reaction.id != 'BIOMASS_Ec_iML1515_core_75p37M' and reaction.id != 'BIOMASS_Ec_iML1515_WT_75p37M':\n",
    "        ser_reac.append(reaction)\n",
    "        print(reaction)"
   ]
  },
  {
   "cell_type": "code",
   "execution_count": 18,
   "metadata": {},
   "outputs": [
    {
     "name": "stdout",
     "output_type": "stream",
     "text": [
      "SERt4pp: na1_p + ser__L_p --> na1_c + ser__L_c\n",
      "PSP_Lpp: h2o_p + pser__L_p --> pi_p + ser__L_p\n",
      "SERt2rpp: h_p + ser__L_p --> h_c + ser__L_c\n",
      "SERtex: ser__L_e <=> ser__L_p\n",
      "GPDDA3pp: g3ps_p + h2o_p --> glyc3p_p + h_p + ser__L_p\n",
      "SERtpp: ser__L_c --> ser__L_p\n"
     ]
    }
   ],
   "source": [
    "for reaction in model.metabolites.ser__L_p.reactions:\n",
    "    ser_reac.append(reaction)\n",
    "    print(reaction)"
   ]
  },
  {
   "cell_type": "code",
   "execution_count": 19,
   "metadata": {},
   "outputs": [
    {
     "name": "stdout",
     "output_type": "stream",
     "text": [
      "SERtex: ser__L_e <=> ser__L_p\n",
      "EX_ser__L_e: ser__L_e --> \n"
     ]
    }
   ],
   "source": [
    "for reaction in model.metabolites.ser__L_e.reactions:\n",
    "    ser_reac.append(reaction)\n",
    "    print(reaction)"
   ]
  },
  {
   "cell_type": "code",
   "execution_count": 23,
   "metadata": {},
   "outputs": [],
   "source": [
    "#ser_reac"
   ]
  },
  {
   "cell_type": "code",
   "execution_count": 7,
   "metadata": {},
   "outputs": [],
   "source": [
    "# Max Serine production. See below\n",
    "\n",
    "#with model:\n",
    "#    model.objective = model.reactions.EX_ser__L_e\n",
    "#    print(model.optimize().objective_value)"
   ]
  },
  {
   "cell_type": "code",
   "execution_count": 8,
   "metadata": {},
   "outputs": [
    {
     "name": "stdout",
     "output_type": "stream",
     "text": [
      "Max. L-serine production [mmol gDW^-1 h^-1]: 20.625882352941183\n",
      "Theoretical max. yield [mmol_L-ser / mmol_glc]: 2.0625882352941183\n"
     ]
    }
   ],
   "source": [
    "# Serine prod. and yield on std. medium w. glc  ... From Exc. 6\n",
    "\n",
    "with model:\n",
    "    #medium['EX_glc__D_e'] = 0\n",
    "    #medium['EX_ac_e'] = 10\n",
    "    #model.medium = medium\n",
    "    model.objective = model.reactions.EX_ser__L_e\n",
    "    ser_production = model.optimize().objective_value\n",
    "    print(\"Max. L-serine production [mmol gDW^-1 h^-1]:\", ser_production)\n",
    "    print(\"Theoretical max. yield [mmol_L-ser / mmol_glc]:\", ser_production / (-1*model.reactions.EX_glc__D_e.flux))"
   ]
  },
  {
   "cell_type": "code",
   "execution_count": 105,
   "metadata": {},
   "outputs": [],
   "source": [
    "#ppp_ser = production_envelope(model,\n",
    "#                    reactions=[model.reactions.EX_ser__L_e],\n",
    " #                   objective=model.reactions.EX_ser__L_e)"
   ]
  },
  {
   "cell_type": "code",
   "execution_count": 106,
   "metadata": {},
   "outputs": [],
   "source": [
    "#ppp_ser"
   ]
  },
  {
   "cell_type": "code",
   "execution_count": 62,
   "metadata": {},
   "outputs": [],
   "source": [
    "# Metabolites to L-serine\n",
    "\n",
    "#model.metabolites.get_by_id('3pg_c')\n",
    "#model.metabolites.get_by_id('3php_c')\n",
    "#model.metabolites.get_by_id('pser__L_c')"
   ]
  },
  {
   "cell_type": "code",
   "execution_count": 71,
   "metadata": {},
   "outputs": [],
   "source": [
    "# Cytosol => Periplasm => EX\n",
    "# SERtpp   =>  SERtex  =>\n",
    "\n",
    "# Reactions to L-serine\n",
    "\n",
    "#model.reactions.PGCD\n",
    "#model.reactions.PSERT\n",
    "#model.reactions.PSP_L\n",
    "\n",
    "# Reactions from L-serine\n",
    "\n",
    "#model.reactions.GHMT2r\n",
    "#model.reactions.LSERDHr\n",
    "#model.reactions.SERD_L\n",
    "#model.reactions.TRPS1\n",
    "#model.reactions.TRPS2"
   ]
  },
  {
   "cell_type": "code",
   "execution_count": null,
   "metadata": {},
   "outputs": [],
   "source": []
  },
  {
   "cell_type": "code",
   "execution_count": null,
   "metadata": {},
   "outputs": [],
   "source": []
  },
  {
   "cell_type": "code",
   "execution_count": null,
   "metadata": {},
   "outputs": [],
   "source": []
  },
  {
   "cell_type": "code",
   "execution_count": 148,
   "metadata": {},
   "outputs": [],
   "source": [
    "#escher.list_available_maps()"
   ]
  },
  {
   "cell_type": "code",
   "execution_count": null,
   "metadata": {},
   "outputs": [],
   "source": []
  },
  {
   "cell_type": "code",
   "execution_count": null,
   "metadata": {},
   "outputs": [],
   "source": []
  }
 ],
 "metadata": {
  "kernelspec": {
   "display_name": "python3.6",
   "language": "python",
   "name": "python3.6"
  },
  "language_info": {
   "codemirror_mode": {
    "name": "ipython",
    "version": 3
   },
   "file_extension": ".py",
   "mimetype": "text/x-python",
   "name": "python",
   "nbconvert_exporter": "python",
   "pygments_lexer": "ipython3",
   "version": "3.6.12"
  }
 },
 "nbformat": 4,
 "nbformat_minor": 4
}
