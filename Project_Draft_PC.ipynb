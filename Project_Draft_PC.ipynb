{
 "cells": [
  {
   "cell_type": "code",
   "execution_count": 1,
   "metadata": {},
   "outputs": [],
   "source": [
    "import pandas as pd\n",
    "import matplotlib.pyplot as plt\n",
    "plt.style.use('seaborn')\n",
    "%matplotlib inline\n",
    "import escher\n",
    "from cobra.flux_analysis.phenotype_phase_plane import production_envelope, add_envelope"
   ]
  },
  {
   "cell_type": "code",
   "execution_count": 2,
   "metadata": {},
   "outputs": [],
   "source": [
    "from cobra.io import read_sbml_model\n",
    "model = read_sbml_model('../course-materials/data/iML1515.xml')"
   ]
  },
  {
   "cell_type": "code",
   "execution_count": 3,
   "metadata": {},
   "outputs": [
    {
     "name": "stdout",
     "output_type": "stream",
     "text": [
      "ser__L_c\n",
      "ser__L_p\n",
      "ser__L_e\n"
     ]
    }
   ],
   "source": [
    "for metabolite in model.metabolites.query('L-Serine', 'name'):\n",
    "    print(metabolite.id)"
   ]
  },
  {
   "cell_type": "markdown",
   "metadata": {},
   "source": [
    "Reactions w. L-Serin in different compartments"
   ]
  },
  {
   "cell_type": "code",
   "execution_count": 4,
   "metadata": {},
   "outputs": [
    {
     "name": "stdout",
     "output_type": "stream",
     "text": [
      "SERAT: accoa_c + ser__L_c <=> acser_c + coa_c\n",
      "SERD_L: ser__L_c --> nh4_c + pyr_c\n",
      "SERASr: atp_c + h_c + ser__L_c <=> ppi_c + seramp_c\n",
      "PSSA180: cdpdodecg_c + ser__L_c --> cmp_c + h_c + ps180_c\n",
      "LSERDHr: nadp_c + ser__L_c <=> 2amsa_c + h_c + nadph_c\n",
      "GPDDA3: g3ps_c + h2o_c --> glyc3p_c + h_c + ser__L_c\n",
      "SERtpp: ser__L_c --> ser__L_p\n",
      "PSSA141: cdpdtdec7eg_c + ser__L_c --> cmp_c + h_c + ps141_c\n",
      "PSSA160: cdpdhdecg_c + ser__L_c --> cmp_c + h_c + ps160_c\n",
      "PSSA161: cdpdhdec9eg_c + ser__L_c --> cmp_c + h_c + ps161_c\n",
      "PSP_L: h2o_c + pser__L_c --> pi_c + ser__L_c\n",
      "TRPS1: 3ig3p_c + ser__L_c --> g3p_c + h2o_c + trp__L_c\n",
      "SERt2rpp: h_p + ser__L_p --> h_c + ser__L_c\n",
      "SERt4pp: na1_p + ser__L_p --> na1_c + ser__L_c\n",
      "PSSA140: cdpdtdecg_c + ser__L_c --> cmp_c + h_c + ps140_c\n",
      "DHBSH: 23dhbzs_c + h2o_c --> 23dhb_c + ser__L_c\n",
      "GHMT2r: ser__L_c + thf_c <=> gly_c + h2o_c + mlthf_c\n",
      "PSSA120: cdpdddecg_c + ser__L_c --> cmp_c + h_c + ps120_c\n",
      "PSSA181: cdpdodec11eg_c + ser__L_c --> cmp_c + h_c + ps181_c\n",
      "TRPS2: indole_c + ser__L_c --> h2o_c + trp__L_c\n"
     ]
    }
   ],
   "source": [
    "ser_reac = list()\n",
    "for reaction in model.metabolites.ser__L_c.reactions:\n",
    "    if reaction.id != 'BIOMASS_Ec_iML1515_core_75p37M' and reaction.id != 'BIOMASS_Ec_iML1515_WT_75p37M':\n",
    "        ser_reac.append(reaction)\n",
    "        print(reaction)        "
   ]
  },
  {
   "cell_type": "code",
   "execution_count": 5,
   "metadata": {},
   "outputs": [
    {
     "name": "stdout",
     "output_type": "stream",
     "text": [
      "SERt4pp: na1_p + ser__L_p --> na1_c + ser__L_c\n",
      "GPDDA3pp: g3ps_p + h2o_p --> glyc3p_p + h_p + ser__L_p\n",
      "SERt2rpp: h_p + ser__L_p --> h_c + ser__L_c\n",
      "SERtpp: ser__L_c --> ser__L_p\n",
      "PSP_Lpp: h2o_p + pser__L_p --> pi_p + ser__L_p\n",
      "SERtex: ser__L_e <=> ser__L_p\n"
     ]
    }
   ],
   "source": [
    "for reaction in model.metabolites.ser__L_p.reactions:\n",
    "    ser_reac.append(reaction)\n",
    "    print(reaction)"
   ]
  },
  {
   "cell_type": "code",
   "execution_count": 6,
   "metadata": {},
   "outputs": [
    {
     "name": "stdout",
     "output_type": "stream",
     "text": [
      "EX_ser__L_e: ser__L_e --> \n",
      "SERtex: ser__L_e <=> ser__L_p\n"
     ]
    }
   ],
   "source": [
    "for reaction in model.metabolites.ser__L_e.reactions:\n",
    "    ser_reac.append(reaction)\n",
    "    print(reaction)"
   ]
  },
  {
   "cell_type": "code",
   "execution_count": 7,
   "metadata": {},
   "outputs": [
    {
     "name": "stdout",
     "output_type": "stream",
     "text": [
      "GLUDy: glu__L_c + h2o_c + nadp_c <=> akg_c + h_c + nadph_c + nh4_c\n",
      "LEUTAi: 4mop_c + glu__L_c --> akg_c + leu__L_c\n",
      "PTRCTA: akg_c + ptrc_c --> 4abutn_c + glu__L_c\n",
      "PSERT: 3php_c + glu__L_c --> akg_c + pser__L_c\n",
      "TYRTA: akg_c + tyr__L_c <=> 34hpp_c + glu__L_c\n",
      "ASPTA: akg_c + asp__L_c <=> glu__L_c + oaa_c\n",
      "SOTA: akg_c + sucorn_c --> glu__L_c + sucgsa_c\n",
      "SEPHCHCS: akg_c + h_c + ichor_c --> 2sephchc_c + co2_c\n",
      "TAUDO: akg_c + o2_c + taur_c --> aacald_c + co2_c + h_c + so3_c + succ_c\n",
      "ICDHyr: icit_c + nadp_c <=> akg_c + co2_c + nadph_c\n",
      "VALTA: akg_c + val__L_c <=> 3mob_c + glu__L_c\n",
      "AKGt2rpp: akg_p + h_p <=> akg_c + h_c\n",
      "ILETA: akg_c + ile__L_c <=> 3mop_c + glu__L_c\n",
      "OHPBAT: glu__L_c + ohpb_c <=> akg_c + phthr_c\n",
      "CYSTA: akg_c + cys__L_c --> glu__L_c + mercppyr_c\n",
      "UDPKAAT: glu__L_c + udpLa4o_c <=> akg_c + udpLa4n_c\n",
      "GLUSy: akg_c + gln__L_c + h_c + nadph_c --> 2.0 glu__L_c + nadp_c\n",
      "ABTA: 4abut_c + akg_c --> glu__L_c + sucsal_c\n",
      "ACOTA: acorn_c + akg_c <=> acg5sa_c + glu__L_c\n",
      "TDPAGTA: dtdp4d6dg_c + glu__L_c --> akg_c + dtdp4addg_c\n",
      "HSTPT: glu__L_c + imacp_c --> akg_c + hisp_c\n",
      "SHGO: S2hglut_c + o2_c --> akg_c + h2o2_c\n",
      "AKGDH: akg_c + coa_c + nad_c --> co2_c + nadh_c + succoa_c\n",
      "PHETA1: akg_c + phe__L_c <=> glu__L_c + phpyr_c\n",
      "SDPTA: akg_c + sl26da_c <=> glu__L_c + sl2a6o_c\n",
      "ALATA_L: akg_c + ala__L_c <=> glu__L_c + pyr_c\n",
      "AHGDx: S2hglut_c + nad_c <=> akg_c + h_c + nadh_c\n",
      "ARHGDx: nad_c + r2hglut_c <=> akg_c + h_c + nadh_c\n"
     ]
    }
   ],
   "source": [
    "akg_c_reac = []\n",
    "for reaction in model.metabolites.akg_c.reactions:\n",
    "        akg_c_reac.append(reaction)\n",
    "        print(reaction)             "
   ]
  },
  {
   "cell_type": "code",
   "execution_count": 8,
   "metadata": {},
   "outputs": [
    {
     "data": {
      "text/plain": [
       "frozenset({<Reaction ABTA at 0x7f96311aa2e8>,\n",
       "           <Reaction ACOTA at 0x7f9630e882e8>,\n",
       "           <Reaction AHGDx at 0x7f9630d993c8>,\n",
       "           <Reaction AKGDH at 0x7f9630eee748>,\n",
       "           <Reaction AKGt2rpp at 0x7f9630d2ff98>,\n",
       "           <Reaction ALATA_L at 0x7f963134fba8>,\n",
       "           <Reaction ARHGDx at 0x7f962fd44be0>,\n",
       "           <Reaction ASPTA at 0x7f96312dd4a8>,\n",
       "           <Reaction CYSTA at 0x7f962fd44a20>,\n",
       "           <Reaction GLUDy at 0x7f9630742400>,\n",
       "           <Reaction GLUSy at 0x7f9630684a90>,\n",
       "           <Reaction HSTPT at 0x7f96306f9710>,\n",
       "           <Reaction ICDHyr at 0x7f9631327550>,\n",
       "           <Reaction ILETA at 0x7f96313065f8>,\n",
       "           <Reaction LEUTAi at 0x7f96312da438>,\n",
       "           <Reaction OHPBAT at 0x7f96311c0a20>,\n",
       "           <Reaction PHETA1 at 0x7f9630edaf60>,\n",
       "           <Reaction PSERT at 0x7f9630e48048>,\n",
       "           <Reaction PTRCTA at 0x7f9631335048>,\n",
       "           <Reaction SDPTA at 0x7f9630fa2390>,\n",
       "           <Reaction SEPHCHCS at 0x7f962fdd9cc0>,\n",
       "           <Reaction SHGO at 0x7f962fdaff28>,\n",
       "           <Reaction SOTA at 0x7f9630e76cc0>,\n",
       "           <Reaction TAUDO at 0x7f9630de70f0>,\n",
       "           <Reaction TDPAGTA at 0x7f9630dc4b00>,\n",
       "           <Reaction TYRTA at 0x7f9630666c50>,\n",
       "           <Reaction UDPKAAT at 0x7f9630611390>,\n",
       "           <Reaction VALTA at 0x7f963130d9b0>})"
      ]
     },
     "execution_count": 8,
     "metadata": {},
     "output_type": "execute_result"
    }
   ],
   "source": [
    "model.metabolites.akg_c.reactions"
   ]
  },
  {
   "cell_type": "code",
   "execution_count": 9,
   "metadata": {},
   "outputs": [
    {
     "name": "stdout",
     "output_type": "stream",
     "text": [
      "Maximize\n",
      "1.0*BIOMASS_Ec_iML1515_core_75p37M - 1.0*BIOMASS_Ec_iML1515_core_75p37M_reverse_35685\n"
     ]
    }
   ],
   "source": [
    "print(model.objective)"
   ]
  },
  {
   "cell_type": "markdown",
   "metadata": {},
   "source": [
    "### Maximising Biomass objective function\n",
    "### Writing flux data to CSV file for Escher visualisation"
   ]
  },
  {
   "cell_type": "code",
   "execution_count": 10,
   "metadata": {},
   "outputs": [],
   "source": [
    "WT_solution = model.optimize()\n",
    "# Non_zero_fluxes = solution.fluxes[solution.fluxes !=0]\n",
    "type(WT_solution.fluxes)\n",
    "WT_solution.fluxes\n",
    "df = pd.DataFrame(WT_solution.fluxes)\n",
    "df.to_csv('WT_solution.fluxes.csv')"
   ]
  },
  {
   "cell_type": "code",
   "execution_count": 11,
   "metadata": {},
   "outputs": [
    {
     "data": {
      "image/png": "[encoded data removed]",
      "text/plain": [
       "<Figure size 432x288 with 1 Axes>"
      ]
     },
     "metadata": {
      "needs_background": "light"
     },
     "output_type": "display_data"
    }
   ],
   "source": [
    "# Visualisation of fluxes as a histogram\n",
    "fig = WT_solution.fluxes.hist()\n",
    "fig.set_xlabel('flux [$mmol gDW^{-1} h^{-1}]$')\n",
    "fig.set_ylabel('Frequency');"
   ]
  },
  {
   "cell_type": "code",
   "execution_count": 12,
   "metadata": {},
   "outputs": [
    {
     "data": {
      "text/plain": [
       "{'EX_pi_e': 1000.0,\n",
       " 'EX_co2_e': 1000.0,\n",
       " 'EX_fe3_e': 1000.0,\n",
       " 'EX_h_e': 1000.0,\n",
       " 'EX_mn2_e': 1000.0,\n",
       " 'EX_fe2_e': 1000.0,\n",
       " 'EX_glc__D_e': 10.0,\n",
       " 'EX_zn2_e': 1000.0,\n",
       " 'EX_mg2_e': 1000.0,\n",
       " 'EX_ca2_e': 1000.0,\n",
       " 'EX_ni2_e': 1000.0,\n",
       " 'EX_cu2_e': 1000.0,\n",
       " 'EX_sel_e': 1000.0,\n",
       " 'EX_cobalt2_e': 1000.0,\n",
       " 'EX_h2o_e': 1000.0,\n",
       " 'EX_mobd_e': 1000.0,\n",
       " 'EX_so4_e': 1000.0,\n",
       " 'EX_nh4_e': 1000.0,\n",
       " 'EX_k_e': 1000.0,\n",
       " 'EX_na1_e': 1000.0,\n",
       " 'EX_cl_e': 1000.0,\n",
       " 'EX_o2_e': 1000.0,\n",
       " 'EX_tungs_e': 1000.0,\n",
       " 'EX_slnt_e': 1000.0}"
      ]
     },
     "execution_count": 12,
     "metadata": {},
     "output_type": "execute_result"
    }
   ],
   "source": [
    "# Max Serine production. See below\n",
    " # with model:\n",
    "   # model.objective = model.reactions.EX_ser__L_e\n",
    "    #print(model.optimize().objective_value)\n",
    "model.medium"
   ]
  },
  {
   "cell_type": "code",
   "execution_count": 13,
   "metadata": {},
   "outputs": [
    {
     "name": "stdout",
     "output_type": "stream",
     "text": [
      "Max. L-serine production [mmol gDW^-1 h^-1]: 20.625882352941172\n",
      "Theoretical max. yield [mmol_L-ser / mmol_glc]: 2.0625882352941174\n"
     ]
    }
   ],
   "source": [
    "# Serine prod. and yield on std. medium w. glc  ... From Exc. 6\n",
    "\n",
    "with model:\n",
    "    #medium['EX_glc__D_e'] = 0\n",
    "    #medium['EX_ac_e'] = 10\n",
    "    #model.medium = medium\n",
    "    model.objective = model.reactions.EX_ser__L_e\n",
    "    ser_production = model.optimize().objective_value\n",
    "    print(\"Max. L-serine production [mmol gDW^-1 h^-1]:\", ser_production)\n",
    "    print(\"Theoretical max. yield [mmol_L-ser / mmol_glc]:\", ser_production / (-1*model.reactions.EX_glc__D_e.flux))\n",
    "    SerMax_solution = model.optimize()\n",
    "    df1 = pd.DataFrame(SerMax_solution.fluxes)\n",
    "    df1.to_csv('SerMax_solution.fluxes.csv')"
   ]
  },
  {
   "cell_type": "code",
   "execution_count": 14,
   "metadata": {},
   "outputs": [],
   "source": [
    "#ppp_ser = production_envelope(model,\n",
    "#                    reactions=[model.reactions.EX_ser__L_e],\n",
    " #                   objective=model.reactions.EX_ser__L_e)"
   ]
  },
  {
   "cell_type": "code",
   "execution_count": 15,
   "metadata": {},
   "outputs": [],
   "source": [
    "#ppp_ser"
   ]
  },
  {
   "cell_type": "code",
   "execution_count": 16,
   "metadata": {},
   "outputs": [
    {
     "data": {
      "text/html": [
       "\n",
       "        <table>\n",
       "            <tr>\n",
       "                <td><strong>Metabolite identifier</strong></td><td>akg_c</td>\n",
       "            </tr><tr>\n",
       "                <td><strong>Name</strong></td><td>2-Oxoglutarate</td>\n",
       "            </tr><tr>\n",
       "                <td><strong>Memory address</strong></td>\n",
       "                <td>0x07f9631c92908</td>\n",
       "            </tr><tr>\n",
       "                <td><strong>Formula</strong></td><td>C5H4O5</td>\n",
       "            </tr><tr>\n",
       "                <td><strong>Compartment</strong></td><td>c</td>\n",
       "            </tr><tr>\n",
       "                <td><strong>In 28 reaction(s)</strong></td><td>\n",
       "                    GLUDy, LEUTAi, PTRCTA, PSERT, TYRTA, ASPTA, SOTA, SEPHCHCS, TAUDO, ICDHyr, VALTA, AKGt2rpp, ILETA, OHPBAT, CYSTA, UDPKAAT, GLUSy, ABTA, ACOTA, TDPAGTA, HSTPT, SHGO, AKGDH, PHETA1, SDPTA, ALATA_L, A...</td>\n",
       "            </tr>\n",
       "        </table>"
      ],
      "text/plain": [
       "<Metabolite akg_c at 0x7f9631c92908>"
      ]
     },
     "execution_count": 16,
     "metadata": {},
     "output_type": "execute_result"
    }
   ],
   "source": [
    " #Metabolites to L-serine\n",
    "\n",
    "# model.metabolites.get_by_id('3pg_c')\n",
    "# model.metabolites.get_by_id('3php_c')\n",
    "# model.metabolites.get_by_id('pser__L_c')\n",
    "model.metabolites.get_by_id('akg_c')"
   ]
  },
  {
   "cell_type": "code",
   "execution_count": 17,
   "metadata": {},
   "outputs": [
    {
     "name": "stdout",
     "output_type": "stream",
     "text": [
      "GHMT2r: ser__L_c + thf_c <=> gly_c + h2o_c + mlthf_c\n",
      "LSERDHr: nadp_c + ser__L_c <=> 2amsa_c + h_c + nadph_c\n",
      "SERD_L: ser__L_c --> nh4_c + pyr_c\n",
      "TRPS1: 3ig3p_c + ser__L_c --> g3p_c + h2o_c + trp__L_c\n",
      "TRPS2: indole_c + ser__L_c --> h2o_c + trp__L_c\n"
     ]
    }
   ],
   "source": [
    "# Cytosol => Periplasm => EX\n",
    "# SERtpp   =>  SERtex  =>\n",
    "\n",
    "# Reactions to L-serine\n",
    "\n",
    "# model.reactions.PGCD   # 3pg_c + nad_c --> 3php_c + h_c + nadh_c\n",
    "# model.reactions.PSERT  # 3php_c + glu__L_c --> akg_c + pser__L_c\n",
    "# model.reactions.PSP_L    # h2o_c + pser__L_c --> pi_c + ser__L_c\n",
    "\n",
    "# Reactions from L-serine\n",
    "\n",
    "#model.reactions.GHMT2r   GHMT2r: ser__L_c + thf_c <=> gly_c + h2o_c + mlthf_c\n",
    "#model.reactions.LSERDHr\n",
    "#model.reactions.SERD_L  SERD_L: ser__L_c --> nh4_c + pyr_c\n",
    "#model.reactions.TRPS1\n",
    "#model.reactions.TRPS2\n",
    "From_ser_Rxn = [model.reactions.GHMT2r, model.reactions.LSERDHr, model.reactions.SERD_L, model.reactions.TRPS1, model.reactions.TRPS2]\n",
    "for rxn in From_ser_Rxn:\n",
    "    print(rxn) "
   ]
  },
  {
   "cell_type": "code",
   "execution_count": 18,
   "metadata": {},
   "outputs": [
    {
     "data": {
      "text/html": [
       "\n",
       "        <table>\n",
       "            <tr>\n",
       "                <td><strong>Reaction identifier</strong></td><td>AHGDx</td>\n",
       "            </tr><tr>\n",
       "                <td><strong>Name</strong></td><td>(S)-alpha-hydroxyglutarate dehydrogenase</td>\n",
       "            </tr><tr>\n",
       "                <td><strong>Memory address</strong></td>\n",
       "                <td>0x07f9630d993c8</td>\n",
       "            </tr><tr>\n",
       "                <td><strong>Stoichiometry</strong></td>\n",
       "                <td>\n",
       "                    <p style='text-align:right'>S2hglut_c + nad_c <=> akg_c + h_c + nadh_c</p>\n",
       "                    <p style='text-align:right'>(S)-2-Hydroxyglutarate + Nicotinamide adenine dinucleotide <=> 2-Oxoglutarate + H+ + Nicotinamide adenine dinucleotide - reduced</p>\n",
       "                </td>\n",
       "            </tr><tr>\n",
       "                <td><strong>GPR</strong></td><td>b2913</td>\n",
       "            </tr><tr>\n",
       "                <td><strong>Lower bound</strong></td><td>-1000.0</td>\n",
       "            </tr><tr>\n",
       "                <td><strong>Upper bound</strong></td><td>1000.0</td>\n",
       "            </tr>\n",
       "        </table>\n",
       "        "
      ],
      "text/plain": [
       "<Reaction AHGDx at 0x7f9630d993c8>"
      ]
     },
     "execution_count": 18,
     "metadata": {},
     "output_type": "execute_result"
    }
   ],
   "source": [
    "# Byproduct Reaction \n",
    "# model.reactions.AHGDx.annotation - Promiscuous reaction resulting in hydroxyglutarate byproduct formation- 1.1.1.399\n",
    "model.reactions.AHGDx\n"
   ]
  },
  {
   "cell_type": "markdown",
   "metadata": {},
   "source": [
    "## Flux variability Analysis"
   ]
  },
  {
   "cell_type": "markdown",
   "metadata": {},
   "source": [
    "Calculate all flux ranges of all reactions in the model"
   ]
  },
  {
   "cell_type": "code",
   "execution_count": 19,
   "metadata": {},
   "outputs": [],
   "source": [
    "from cobra.flux_analysis import flux_variability_analysis"
   ]
  },
  {
   "cell_type": "code",
   "execution_count": null,
   "metadata": {},
   "outputs": [],
   "source": [
    "result = flux_variability_analysis(model,loopless= True)\n",
    "result"
   ]
  },
  {
   "cell_type": "code",
   "execution_count": null,
   "metadata": {},
   "outputs": [],
   "source": [
    "type(result)"
   ]
  },
  {
   "cell_type": "code",
   "execution_count": null,
   "metadata": {},
   "outputs": [],
   "source": [
    "result.describe()"
   ]
  },
  {
   "cell_type": "markdown",
   "metadata": {},
   "source": [
    "Writing Absolute flux differences to CSV"
   ]
  },
  {
   "cell_type": "code",
   "execution_count": null,
   "metadata": {},
   "outputs": [],
   "source": [
    "df3 = abs(result.maximum - result.minimum)\n",
    "df3.fobje\n",
    "# find reactions showing up in red, these are futile cycles\n",
    "sum(abs(result.maximum - result.minimum))"
   ]
  },
  {
   "cell_type": "code",
   "execution_count": null,
   "metadata": {},
   "outputs": [],
   "source": [
    "df3.value_counts(sort=True)"
   ]
  },
  {
   "cell_type": "code",
   "execution_count": null,
   "metadata": {},
   "outputs": [],
   "source": [
    "model.objective"
   ]
  },
  {
   "cell_type": "code",
   "execution_count": null,
   "metadata": {},
   "outputs": [],
   "source": [
    "from cameo.flux_analysis.analysis import phenotypic_phase_plane\n",
    "production_envelope = phenotypic_phase_plane(model, \n",
    "                                             variables=[model.reactions.BIOMASS_Ecoli_core_w_GAM],\n",
    "                                             objective=model.metabolites.succ_e)\n",
    "production_envelope.plot(height=400)"
   ]
  },
  {
   "cell_type": "code",
   "execution_count": null,
   "metadata": {},
   "outputs": [],
   "source": []
  }
 ],
 "metadata": {
  "kernelspec": {
   "display_name": "python3.6",
   "language": "python",
   "name": "python3.6"
  },
  "language_info": {
   "codemirror_mode": {
    "name": "ipython",
    "version": 3
   },
   "file_extension": ".py",
   "mimetype": "text/x-python",
   "name": "python",
   "nbconvert_exporter": "python",
   "pygments_lexer": "ipython3",
   "version": "3.6.12"
  }
 },
 "nbformat": 4,
 "nbformat_minor": 4
}
